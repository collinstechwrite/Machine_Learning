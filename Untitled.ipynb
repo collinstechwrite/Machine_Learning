{
 "cells": [
  {
   "cell_type": "markdown",
   "metadata": {},
   "source": [
    "https://stackoverflow.com/questions/44817281/performing-chi-squared-test-in-python\n",
    "\n",
    "from scipy.stats import chisquare  \n",
    "chisquare([ <your data points>])\n",
    "\n",
    "\n",
    "\n",
    "https://docs.scipy.org/doc/scipy/reference/generated/scipy.stats.chisquare.html\n",
    "    \n",
    " \n",
    "    \n",
    "    \n",
    "When just f_obs is given, it is assumed that the expected frequencies are uniform and given by the mean of the observed frequencies.\n",
    "\n",
    ">>>\n",
    "from scipy.stats import chisquare\n",
    "chisquare([16, 18, 16, 14, 12, 12])\n",
    "(2.0, 0.84914503608460956)\n",
    "With f_exp the expected frequencies can be given.\n",
    "\n",
    ">>>\n",
    "chisquare([16, 18, 16, 14, 12, 12], f_exp=[16, 16, 16, 16, 16, 8])\n",
    "(3.5, 0.62338762774958223)"
   ]
  }
 ],
 "metadata": {
  "kernelspec": {
   "display_name": "Python 3",
   "language": "python",
   "name": "python3"
  },
  "language_info": {
   "codemirror_mode": {
    "name": "ipython",
    "version": 3
   },
   "file_extension": ".py",
   "mimetype": "text/x-python",
   "name": "python",
   "nbconvert_exporter": "python",
   "pygments_lexer": "ipython3",
   "version": "3.8.3"
  }
 },
 "nbformat": 4,
 "nbformat_minor": 4
}
