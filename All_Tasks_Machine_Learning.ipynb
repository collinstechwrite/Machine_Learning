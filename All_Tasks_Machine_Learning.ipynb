{
 "cells": [
  {
   "cell_type": "markdown",
   "metadata": {},
   "source": [
    "# TASK 1\n",
    "\n",
    "October 5th, 2020: Write a Python function called sqrt2 that calculates and\n",
    "prints to the screen the square root of 2 to 100 decimal places. Your code should\n",
    "not depend on any module from the standard library1 or otherwise. You should\n",
    "research the task first and include references and a description of your algorithm.\n",
    "\n",
    "![Drag Racing](Drags)\n"
   ]
  },
  {
   "cell_type": "code",
   "execution_count": 1,
   "metadata": {},
   "outputs": [
    {
     "name": "stdout",
     "output_type": "stream",
     "text": [
      "1.4142135623730950488016887242096980785696718753769480731766797379907324784621070388503875343276415727\n"
     ]
    }
   ],
   "source": [
    "def sqrt2(my_number): \n",
    "    # I researched how to do a nested function to encapsulate sqrt2 as the overarching function, outer / inner function \n",
    "    # see https://stackabuse.com/python-nested-functions/\n",
    "    # my_number is 2, when the function sqrt2 is called sqrt2(2), see last line of code below\n",
    "\n",
    "\n",
    "    x = my_number * 100000000000000000000000000000000000000000000000000000000000000000000000000000000000000000000000000000000000000000000000000000000000000000000000000000000000000000000000000000000000000000000000000000000\n",
    "    # Because Python does not do 100 decimal places, we multiply 2 to a really large integer, where the square root of this number will be an integer length of 101 characters\n",
    "    # e.g. 14142135623730950488016887242096980785696718753769480731766797379907324784621070388503875343276415727\n",
    "    # is square root of 200000000000000000000000000000000000000000000000000000000000000000000000000000000000000000000000000000000000000000000000000000000000000000000000000000000000000000000000000000000000000000000000000000000\n",
    "    # The above could also be coded this way x = my_number * 10 ** 200\n",
    " \n",
    "    r = x\n",
    "\n",
    "    def test_diffs(x, r): \n",
    "\n",
    "        # test_diffs is the inner function of sqrt2, the code which I used for this inner function was given to me by expert on stackoverflow\n",
    "        # https://stackoverflow.com/questions/64278117/is-there-a-way-to-create-more-decimal-points-on-python-without-importing-a-libra/64278569?noredirect=1#comment113668731_64278569\n",
    "        # on my question on stackoverflow I describe the research I have done, and how far I got with a possible solution\n",
    "        \n",
    "        \n",
    "        d0 = abs(x - r**2)\n",
    "        dm = abs(x - (r-1)**2)\n",
    "        dp = abs(x - (r+1)**2)\n",
    "        minimised = d0 <= dm and d0 <= dp\n",
    "        below_min = dp < dm\n",
    "        return minimised, below_min\n",
    "\n",
    "    while True:\n",
    "        oldr = r # this is a variable used for keeping track of original numaber\n",
    "        r = (r + x // r) // 2\n",
    "\n",
    "        minimised, below_min = test_diffs(x, r)\n",
    "        if minimised:\n",
    "            break\n",
    "\n",
    "        if r == oldr:\n",
    "            if below_min:\n",
    "                r += 1 # increment r by 1\n",
    "            else:\n",
    "                r -= 1 # decrease r by 1\n",
    "            minimised, _ = test_diffs(x, r)\n",
    "\n",
    "            if minimised:\n",
    "                break\n",
    "\n",
    "    # We could present answer using print formatting from original stackoverflow answer\n",
    "    # https://stackoverflow.com/questions/64278117/is-there-a-way-to-create-more-decimal-points-on-python-without-importing-a-libra/64278569?noredirect=1#comment113668731_64278569\n",
    "    # print(f'{r // 10**100}.{r % 10**100:0100d}')\"\"\"\n",
    "\n",
    "    # Or we can code to convert the final number into a string, and separate the string into two parts and add a fullstop in the middle https://stackoverflow.com/questions/1228299/changing-one-character-in-a-string\n",
    "    r = str(r)\n",
    "    text = r[:1] + \".\" + r[1:]\n",
    "    print(text)\n",
    "\n",
    "\n",
    "sqrt2(2) # call the function sqrt"
   ]
  },
  {
   "cell_type": "markdown",
   "metadata": {},
   "source": [
    "# Task 2\n",
    "\n",
    "\n",
    "November 2nd, 2020: The Chi-squared test for independence is a statistical\n",
    "hypothesis test like a t-test. It is used to analyse whether two categorical variables\n",
    "are independent. The Wikipedia article gives the table below as an example [4],\n",
    "stating the Chi-squared value based on it is approximately 24.6. Use scipy.stats\n",
    "to verify this value and calculate the associated p value. You should include a short\n",
    "note with references justifying your analysis in a markdown cell.\n",
    "A B C D Total\n",
    "White collar 90 60 104 95 349\n",
    "Blue collar 30 50 51 20 151\n",
    "No collar 30 40 45 35 150\n",
    "Total 150 150 200 150 650"
   ]
  }
 ],
 "metadata": {
  "kernelspec": {
   "display_name": "Python 3",
   "language": "python",
   "name": "python3"
  },
  "language_info": {
   "codemirror_mode": {
    "name": "ipython",
    "version": 3
   },
   "file_extension": ".py",
   "mimetype": "text/x-python",
   "name": "python",
   "nbconvert_exporter": "python",
   "pygments_lexer": "ipython3",
   "version": "3.8.3"
  }
 },
 "nbformat": 4,
 "nbformat_minor": 4
}
