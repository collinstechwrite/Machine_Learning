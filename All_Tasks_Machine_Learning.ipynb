{
 "cells": [
  {
   "cell_type": "markdown",
   "metadata": {},
   "source": [
    "# TASK 1 - SQRT2\n",
    "\n",
    "October 5th, 2020: Write a Python function called sqrt2 that calculates and prints to the screen the square root of 2 to 100 decimal places. Your code should not depend on any module from the standard library1 or otherwise. You should research the task first and include references and a description of your algorithm."
   ]
  },
  {
   "cell_type": "code",
   "execution_count": 1,
   "metadata": {},
   "outputs": [
    {
     "name": "stdout",
     "output_type": "stream",
     "text": [
      "1.4142135623730950488016887242096980785696718753769480731766797379907324784621070388503875343276415727\n"
     ]
    }
   ],
   "source": [
    "def sqrt2(my_number): \n",
    "    # I researched how to do a nested function to encapsulate sqrt2 as the overarching function, outer / inner function \n",
    "    # see https://stackabuse.com/python-nested-functions/\n",
    "    # my_number is 2, when the function sqrt2 is called sqrt2(2), see last line of code below\n",
    "\n",
    "\n",
    "    x = my_number * 100000000000000000000000000000000000000000000000000000000000000000000000000000000000000000000000000000000000000000000000000000000000000000000000000000000000000000000000000000000000000000000000000000000\n",
    "    # Because Python does not do 100 decimal places, we multiply 2 to a really large integer, where the square root of this number will be an integer length of 101 characters\n",
    "    # e.g. 14142135623730950488016887242096980785696718753769480731766797379907324784621070388503875343276415727\n",
    "    # is square root of 200000000000000000000000000000000000000000000000000000000000000000000000000000000000000000000000000000000000000000000000000000000000000000000000000000000000000000000000000000000000000000000000000000000\n",
    "    # The above could also be coded this way x = my_number * 10 ** 200\n",
    " \n",
    "    r = x\n",
    "\n",
    "    def test_diffs(x, r): \n",
    "\n",
    "        # test_diffs is the inner function of sqrt2, the code which I used for this inner function was given to me by expert on stackoverflow\n",
    "        # https://stackoverflow.com/questions/64278117/is-there-a-way-to-create-more-decimal-points-on-python-without-importing-a-libra/64278569?noredirect=1#comment113668731_64278569\n",
    "        # on my question on stackoverflow I describe the research I have done, and how far I got with a possible solution\n",
    "        \n",
    "        \n",
    "        d0 = abs(x - r**2)\n",
    "        dm = abs(x - (r-1)**2)\n",
    "        dp = abs(x - (r+1)**2)\n",
    "        minimised = d0 <= dm and d0 <= dp\n",
    "        below_min = dp < dm\n",
    "        return minimised, below_min\n",
    "\n",
    "    while True:\n",
    "        oldr = r # this is a variable used for keeping track of original numaber\n",
    "        r = (r + x // r) // 2\n",
    "\n",
    "        minimised, below_min = test_diffs(x, r)\n",
    "        if minimised:\n",
    "            break\n",
    "\n",
    "        if r == oldr:\n",
    "            if below_min:\n",
    "                r += 1 # increment r by 1\n",
    "            else:\n",
    "                r -= 1 # decrease r by 1\n",
    "            minimised, _ = test_diffs(x, r)\n",
    "\n",
    "            if minimised:\n",
    "                break\n",
    "\n",
    "    # We could present answer using print formatting from original stackoverflow answer\n",
    "    # https://stackoverflow.com/questions/64278117/is-there-a-way-to-create-more-decimal-points-on-python-without-importing-a-libra/64278569?noredirect=1#comment113668731_64278569\n",
    "    # print(f'{r // 10**100}.{r % 10**100:0100d}')\"\"\"\n",
    "\n",
    "    # Or we can code to convert the final number into a string, and separate the string into two parts and add a fullstop in the middle https://stackoverflow.com/questions/1228299/changing-one-character-in-a-string\n",
    "    r = str(r)\n",
    "    text = r[:1] + \".\" + r[1:]\n",
    "    print(text)\n",
    "\n",
    "\n",
    "sqrt2(2) # call the function sqrt"
   ]
  },
  {
   "cell_type": "markdown",
   "metadata": {},
   "source": [
    "\n",
    "## My Notes for trying to show Sqrt2 to 100 decimal places\n",
    "\n",
    "My answer above heavily depended on help from a stackoverflow user, my research into this question prior to using stackoverflow can be found below\n",
    "\n",
    "Last Semester we worked on Newton's method of finding square roots\n",
    "\n",
    "[https://github.com/g00387822/pands-problem-sheet/blob/master/5-squareroot.py](https://github.com/g00387822/pands-problem-sheet/blob/master/5-squareroot.py)\n",
    "\n",
    "I tried to reuse the code from last Semester to find the Square Root of 2 (Various .py draft files can be found in Rough_draft_work_sqrt2)\n",
    "\n",
    "Unfortunately Python has its limitations on the amount of Decimal places that it will show [read more](https://docs.python.org/3.4/tutorial/floatingpoint.html)\n",
    "\n",
    "After much research and frustration, I consolidated what I had learned and drafted in code\n",
    "\n",
    ", and asked the question on StackOverFlow\n",
    "\n",
    "### Is there a way to create more decimal points on Python without importing a library/module?\n",
    "\n",
    "[Is there a way to create more decimal points on Python without importing a library/module?](https://stackoverflow.com/questions/64278117/is-there-a-way-to-create-more-decimal-points-on-python-without-importing-a-libra)\n",
    "\n",
    "On Stackoverflow I received this solution to be able to complete the task\n",
    "\n",
    "\n",
    "\n",
    "x = 2 * 10 ** 200\n",
    "\n",
    "r = x\n",
    "\n",
    "def test_diffs(x, r):\n",
    "    d0 = abs(x - r**2)\n",
    "    dm = abs(x - (r-1)**2)\n",
    "    dp = abs(x - (r+1)**2)\n",
    "    minimised = d0 <= dm and d0 <= dp\n",
    "    below_min = dp < dm\n",
    "    return minimised, below_min\n",
    "\n",
    "while True:\n",
    "    oldr = r\n",
    "    r = (r + x // r) // 2\n",
    "\n",
    "    minimised, below_min = test_diffs(x, r)\n",
    "    if minimised:\n",
    "        break\n",
    "\n",
    "    if r == oldr:\n",
    "        if below_min:\n",
    "            r += 1\n",
    "        else:\n",
    "            r -= 1\n",
    "        minimised, _ = test_diffs(x, r)\n",
    "        if minimised:\n",
    "            break\n",
    "\n",
    "print(f'{r // 10**100}.{r % 10**100:0100d}')\n",
    "\n",
    "Gives:\n",
    "\n",
    "1.4142135623730950488016887242096980785696718753769480731766797379907324784621070388503875343276415727\n",
    "\n",
    "\n",
    "Compare with my solution below\n",
    "\n",
    "\n",
    "def sqrt2(my_number): # I researched how to do a nested function to encapsulate sqrt2 as the overarching function, outer / inner function see https://stackabuse.com/python-nested-functions/\n",
    "                      # my_number is 2, when the function sqrt2 is called sqrt2(2), see last line of code below\n",
    "\n",
    "\n",
    "    x = my_number * 100000000000000000000000000000000000000000000000000000000000000000000000000000000000000000000000000000000000000000000000000000000000000000000000000000000000000000000000000000000000000000000000000000000\n",
    "    # Because Python does not do 100 decimal places, we multiply 2 to a really large integer, where the square root of this number will be an integer length of 101 characters\n",
    "    # e.g. 14142135623730950488016887242096980785696718753769480731766797379907324784621070388503875343276415727\n",
    "    # is square root of 200000000000000000000000000000000000000000000000000000000000000000000000000000000000000000000000000000000000000000000000000000000000000000000000000000000000000000000000000000000000000000000000000000000\n",
    "    # The above could also be coded this way x = my_number * 10 ** 200\n",
    " \n",
    "    r = x\n",
    "\n",
    "    def test_diffs(x, r): \n",
    "\n",
    "        # test_diffs is the inner function of sqrt2, the code which I used for this inner function was given to me by expert on stackoverflow\n",
    "        # https://stackoverflow.com/questions/64278117/is-there-a-way-to-create-more-decimal-points-on-python-without-importing-a-libra/64278569?noredirect=1#comment113668731_64278569\n",
    "        # on my question on stackoverflow I describe the research I have done, and how far I got with a possible solution\n",
    "        \n",
    "        \n",
    "        d0 = abs(x - r**2)\n",
    "        dm = abs(x - (r-1)**2)\n",
    "        dp = abs(x - (r+1)**2)\n",
    "        minimised = d0 <= dm and d0 <= dp\n",
    "        below_min = dp < dm\n",
    "        return minimised, below_min\n",
    "\n",
    "    while True:\n",
    "        oldr = r # this is a variable used for keeping track of original numaber\n",
    "        r = (r + x // r) // 2\n",
    "\n",
    "        minimised, below_min = test_diffs(x, r)\n",
    "        if minimised:\n",
    "            break\n",
    "\n",
    "        if r == oldr:\n",
    "            if below_min:\n",
    "                r += 1 # increment r by 1\n",
    "            else:\n",
    "                r -= 1 # decrease r by 1\n",
    "            minimised, _ = test_diffs(x, r)\n",
    "\n",
    "            if minimised:\n",
    "                break\n",
    "\n",
    "    # We could present answer using print formatting from original stackoverflow answer\n",
    "    # https://stackoverflow.com/questions/64278117/is-there-a-way-to-create-more-decimal-points-on-python-without-importing-a-libra/64278569?noredirect=1#comment113668731_64278569\n",
    "    # print(f'{r // 10**100}.{r % 10**100:0100d}')\"\"\"\n",
    "\n",
    "    # Or we can code to convert the final number into a string, and separate the string into two parts and add a fullstop in the middle https://stackoverflow.com/questions/1228299/changing-one-character-in-a-string\n",
    "    r = str(r)\n",
    "    text = r[:1] + \".\" + r[1:]\n",
    "    print(text)\n",
    "\n",
    "\n",
    "\n",
    "\n",
    "sqrt2(2) # call the function sqrt\n",
    "\n",
    "\n",
    "I have provided references to the code of others, and have worked towards consolidating the code into one function sqrt2\n",
    "\n",
    "\n",
    "The Square Root of Two to 1 Million Digits can be found on this link\n",
    "[https://apod.nasa.gov/htmltest/gifcity/sqrt2.1mil](https://apod.nasa.gov/htmltest/gifcity/sqrt2.1mil)\n",
    "\n",
    "\n",
    "The typical way of solving this question on Python 3 would be to do this\n",
    "\n",
    ">>> import decimal\n",
    ">>> decimal.getcontext().prec=101\n",
    ">>> Decimal(\"2\").sqrt()\n",
    "Decimal('1.4142135623730950488016887242096980785696718753769480731766797379907324784621070388503875343276415727')"
   ]
  },
  {
   "cell_type": "markdown",
   "metadata": {},
   "source": [
    "# Task 2 - CHI-SQUARED\n",
    "\n",
    "November 2nd, 2020: The Chi-squared test for independence is a statistical hypothesis test like a t-test. It is used to analyse whether two categorical variables are independent. The Wikipedia article gives the table below as an example [4], stating the Chi-squared value based on it is approximately 24.6. Use scipy.stats to verify this value and calculate the associated p value. You should include a short note with references justifying your analysis in a markdown cell. https://en.wikipedia.org/wiki/Chi-squared_test\n",
    "\n",
    "![table.png](table.png)"
   ]
  },
  {
   "cell_type": "code",
   "execution_count": null,
   "metadata": {},
   "outputs": [],
   "source": []
  },
  {
   "cell_type": "markdown",
   "metadata": {},
   "source": [
    "### Videos Watched\n",
    "\n",
    "https://youtu.be/fMIwIKLGke0\n",
    "associated Jupyter Notebook https://nbviewer.jupyter.org/github/bhattbhavesh91/chi-squared-feature-selection-selectkbest/blob/master/chi-squared-selectkbest-notebook.ipynb\n",
    "\n",
    "This referenced use of \n",
    "\n",
    "import pandas as pd\n",
    "import numpy as np\n",
    "from scipy import stats\n",
    "from sklearn.feature_selection import SelectKBest, chi2\n",
    "\n",
    "\n",
    "https://youtu.be/WXPBoFDqNVk <br>\n",
    "https://youtu.be/Pbo7VbHK9cY <br>\n",
    "https://youtu.be/I10q6fjPxJ0 <br>\n",
    "\n",
    "At layman entry point into statistics, for me it was at first a daunting task to find for dummies statistical training guides on chi-squared test, and to apply that to the scipy.stats functions available.\n",
    "\n",
    "### Written Sources of investigation\n",
    "\n",
    "As the task assignment specifically referenced scipy.stats I checked Stackoverflow\n",
    "\n",
    "https://stackoverflow.com/questions/44817281/performing-chi-squared-test-in-python\n",
    "\n",
    "from scipy.stats import chisquare  \n",
    "chisquare([ <your data points>])\n",
    "\n",
    "I also checked the user manual.\n",
    "    \n",
    "https://docs.scipy.org/doc/scipy/reference/generated/scipy.stats.chisquare.html\n",
    "\n",
    "I raised a question on Stackoverflow hoping that with expert advice, I could both broaden my understanding of the chi square test, and to use the best available scipy.stats function to reference the table data.\n",
    "    \n",
    "My question can be found here:\n",
    "https://stackoverflow.com/questions/64669448/understanding-scipy-stats-chisquare\n",
    "    \n",
    "### My Question On Stackoverflow\n",
    "    \n",
    "Can someone help me with scipy.stats.chisquare? I do not have a statistical / mathematical background, and I am learning scipy.stats.chisquare with this data set from https://en.wikipedia.org/wiki/Chi-squared_test\n",
    "\n",
    "The Wikipedia article gives the table below as an example, stating the Chi-squared value based on it is approximately 24.6. I am to use scipy.stats to verify this value and calculate the associated p value.\n",
    "\n",
    "![table.png](table.png)\n",
    "    \n",
    "I have found what looks like the most likely formula solutions to help me here\n",
    "\n",
    "https://docs.scipy.org/doc/scipy/reference/generated/scipy.stats.chisquare.html\n",
    "\n",
    "![chi_squared_solutions.png](chi_squared_solutions.png)  \n",
    "\n",
    "As I am new to statistics, and also the use of scipy.stats.chisquare I am just not sure of the best approach, and how best to enter the data from provided table into the arrays, and whether to supply expected values? from Wikipedia.\n",
    "    \n"
   ]
  },
  {
   "cell_type": "markdown",
   "metadata": {},
   "source": [
    "### Final Solution from Stackoverflow\n",
    "\n",
    "![table.png](table.png)\n",
    "\n",
    "\n",
    ">> That data is a contingency table. SciPy has the function scipy.stats.chi2_contingency that applies the chi-square test to a contingency table. It is fundamentally just a reqular chi-square test, but when applied to a contingency table, the expected frequencies are calculated under the assumption of independence (chi2_contingency does this for you), and the degrees of freedom depends on the number of rows and columns (chi2_contingency calculates this for you, too).\n",
    ">> Here's how you can apply the chi-square test to that table:\n",
    ">> https://stackoverflow.com/questions/64669448/understanding-scipy-stats-chisquare/\n",
    "\n",
    "From using the above answer, I didn't need to research further the expected frequencies for each category, because the chi2_contingency does this for you.\n",
    "The chi2_contingency function also calulates the degrees of freedom.\n",
    "\n",
    "As requested for this task, this chi2_contingency function was able to verify the value of 24.6 (24.571) and calculate the associated p value as 0.00040984"
   ]
  },
  {
   "cell_type": "code",
   "execution_count": 2,
   "metadata": {},
   "outputs": [
    {
     "name": "stdout",
     "output_type": "stream",
     "text": [
      "chi2 statistic:     24.571\n",
      "p-value:            0.00040984\n",
      "degrees of freedom: 6\n",
      "expected frequencies:\n",
      "[[ 80.53846154  80.53846154 107.38461538  80.53846154]\n",
      " [ 34.84615385  34.84615385  46.46153846  34.84615385]\n",
      " [ 34.61538462  34.61538462  46.15384615  34.61538462]]\n"
     ]
    },
    {
     "data": {
      "text/plain": [
       "'\\nThe .g used in the print formating stands for General format. \\nGeneral format: For a given precision p >= 1, this rounds the number to p significant digits and \\nthen formats the result in either fixed-point format or in scientific notation, depending on its magnitude.'"
      ]
     },
     "execution_count": 2,
     "metadata": {},
     "output_type": "execute_result"
    }
   ],
   "source": [
    "import numpy as np\n",
    "from scipy.stats import chi2_contingency\n",
    "\n",
    "\n",
    "# We use a multi dimensional data array from numpy to represent the table\n",
    "\n",
    "table = np.array([[90, 60, 104, 95], # White collar\n",
    "                  [30, 50,  51, 20], # Blue collar\n",
    "                  [30, 40,  45, 35]]) # No collar\n",
    "\n",
    "# the variables chi2, p, dof, expected\n",
    "\n",
    "chi2, p, dof, expected = chi2_contingency(table) #chi2_contingency function from scipy.stats is applied to the table\n",
    "    # the variables chi2, p, dof, expected - are the same as set out in the user guide url below                                              \n",
    "    # https://docs.scipy.org/doc/scipy/reference/generated/scipy.stats.chi2_contingency.html\n",
    "\n",
    "print(f\"chi2 statistic:     {chi2:.5g}\")\n",
    "print(f\"p-value:            {p:.5g}\")\n",
    "print(f\"degrees of freedom: {dof}\")\n",
    "print(\"expected frequencies:\")\n",
    "print(expected)\n",
    "\n",
    "\"\"\"\n",
    "The .g used in the print formating stands for General format. \n",
    "General format: For a given precision p >= 1, this rounds the number to p significant digits and \n",
    "then formats the result in either fixed-point format or in scientific notation, depending on its magnitude.\"\"\"\n"
   ]
  },
  {
   "cell_type": "code",
   "execution_count": 3,
   "metadata": {},
   "outputs": [
    {
     "name": "stdout",
     "output_type": "stream",
     "text": [
      "chi2 statistic:     24.571\n",
      "p-value:            0.00040984\n",
      "degrees of freedom: 6\n",
      "expected frequencies:\n",
      "[[ 80.53846154  80.53846154 107.38461538  80.53846154]\n",
      " [ 34.84615385  34.84615385  46.46153846  34.84615385]\n",
      " [ 34.61538462  34.61538462  46.15384615  34.61538462]]\n"
     ]
    }
   ],
   "source": [
    "import numpy as np\n",
    "from scipy.stats import chi2_contingency\n",
    "\n",
    "\n",
    "table = np.array([[90, 60, 104, 95],\n",
    "                  [30, 50,  51, 20],\n",
    "                  [30, 40,  45, 35]])\n",
    "\n",
    "chi2, p, dof, expected = chi2_contingency(table)\n",
    "\n",
    "print(f\"chi2 statistic:     {chi2:.5g}\")\n",
    "print(f\"p-value:            {p:.5g}\")\n",
    "print(f\"degrees of freedom: {dof}\")\n",
    "print(\"expected frequencies:\")\n",
    "print(expected)"
   ]
  },
  {
   "cell_type": "code",
   "execution_count": 4,
   "metadata": {},
   "outputs": [
    {
     "name": "stdout",
     "output_type": "stream",
     "text": [
      "chi2 statistic:     24.571\n",
      "p-value:            0.00040984\n",
      "degrees of freedom: 6\n",
      "expected frequencies:\n",
      "[[ 80.53846154  80.53846154 107.38461538  80.53846154]\n",
      " [ 34.84615385  34.84615385  46.46153846  34.84615385]\n",
      " [ 34.61538462  34.61538462  46.15384615  34.61538462]]\n"
     ]
    }
   ],
   "source": [
    "import numpy as np\n",
    "import scipy.stats\n",
    "\n",
    "\n",
    "table = np.array([[90, 60, 104, 95],\n",
    "                  [30, 50,  51, 20],\n",
    "                  [30, 40,  45, 35]])\n",
    "\n",
    "chi2, p, dof, expected = scipy.stats.chi2_contingency(table)\n",
    "\n",
    "print(f\"chi2 statistic:     {chi2:.5g}\")\n",
    "print(f\"p-value:            {p:.5g}\")\n",
    "print(f\"degrees of freedom: {dof}\")\n",
    "print(\"expected frequencies:\")\n",
    "print(expected)"
   ]
  },
  {
   "cell_type": "markdown",
   "metadata": {},
   "source": [
    "# Task 3 - CALCULATING STANDARD DEVIATION\n",
    "\n",
    "November 16th, 2020: The standard deviation of an array of numbers x is calculated using numpy as np.sqrt(np.sum((x - np.mean(x))**2)/len(x)). However, Microsoft Excel has two different versions of the standard deviation calculation, STDEV.P and STDEV.S . \n",
    "\n",
    "The STDEV.P function performs the above calculation but in the STDEV.S calculation the division is by len(x)-1 rather\n",
    "than len(x) . \n",
    "\n",
    "Research these Excel functions, writing a note in a Markdown cell about the difference between them. \n",
    "\n",
    "Then use numpy to perform a simulation demonstrating that the STDEV.S calculation is a better estimate for the standard deviation of a population when performed on a sample. Note that part of this task is to figure out the terminology in the previous sentence."
   ]
  },
  {
   "cell_type": "markdown",
   "metadata": {},
   "source": [
    "# Why NumPy is better than Excel\n",
    "\n",
    "![OriginalComparison.png](OriginalComparison.png)\n",
    "\n",
    "### use numpy to perform a simulation demonstrating that the STDEV.S calculation is a better estimate for the standard deviation of a population when performed on a sample. \n",
    "\n",
    "After much research, I felt that the easiest way to show the reader the difference between how Standard Deviation is done with NumPy compared to how it is done with Excel, was to show a side by side comparison of the formulas and the results.\n",
    "\n",
    "When you compare NumPy np.std(GROUP_X, ddof=1) to Excel =STDEV.S(C10:G10), NumPy gives accuracy to more decimal places.<br>\n",
    "On the group of numbers in GROUP_X NumPy np.std(GROUP_X, ddof=1) gives the answer: 79.05694150420949<br>\n",
    "On the group of numbers in GROUP_X Excel =STDEV.S(B10:F10) gives the answer:       79.0569415<br>\n",
    "\n",
    "If you are look at the screenshot below, if you were to try and set Excel to show 14 decimal places, Excel would round up the 79.05694150420949 to 79.05694150420950, therefore proving NumPy is more precise.\n",
    "\n",
    "![ExcelRoundsUp.png](ExcelRoundsUp.png)\n",
    "\n",
    "**This concludes my observations for answering Task 3. My research notes for Task 3 can be found below.**"
   ]
  },
  {
   "cell_type": "markdown",
   "metadata": {},
   "source": [
    "## WHAT IS THE PURPOSE OF STANDARD DEVIATION IN RESEARCH?\n",
    "\n",
    ">Standard Deviation (often abbreviated as \"Std Dev\" or \"SD\") provides an indication of how far the individual responses to a question vary or \"deviate\" from the mean. SD tells the researcher how spread out the responses are -- are they concentrated around the mean, or scattered far & wide?\n",
    "https://www.greenbook.org/marketing-research/how-to-interpret-standard-deviation-and-standard-error-in-survey-research-03377\n",
    "\n",
    "\n",
    "## WHAT ARE THE USES OF STANDARD DEVIATION?\n",
    "\n",
    "> Standard deviation is a number used to tell how measurements for a group are spread out from the average (mean or expected value). A low standard deviation means that most of the numbers are close to the average, while a high standard deviation means that the numbers are more spread out.\n",
    "\n",
    "\n",
    "https://simple.wikipedia.org/wiki/Standard_deviation\n",
    "\n",
    "**Sometimes averages tell us very little about a group of numbers e.g. the average annual salary, some people are on minimum weekly wage, others are on fat cat salaries. The average annual salary often looks reasonable, however many live in extreme poverty while others are obscenely rich.**\n",
    "\n",
    "**Look at the three group of numbers below, they all total 1000, they all average 200**\n",
    "![Averages.png](Averages.png)\n",
    "\n",
    "**The standard deviation formulas found in excel and in python modules such as NumPy help bring more meaning to analysing the numbers.**\n",
    "![ExcelDeviations.png](ExcelDeviations.png)\n"
   ]
  },
  {
   "cell_type": "markdown",
   "metadata": {},
   "source": [
    "### CALCULATING STANDARD DEVIATION FOR ENTIRE POPULATION DATA OR SAMPLE DATA?\n",
    "\n",
    "To calculate the standard deviation of a group of numbers, the clue to how to use STDEV.P or STDEV.S is in the suffix. \n",
    "\n",
    "\n",
    "**STDEV. P** FOR AN ENTIRE POPULATION\n",
    "> Work out the Mean (the simple average of the numbers)<br>\n",
    "Then for each number: subtract the Mean and square the result.<br>\n",
    "Then work out the mean of those squared differences.<br>\n",
    "Take the square root of that and we are done!<br>\n",
    ">https://www.mathsisfun.com/data/standard-deviation-formulas.html\n",
    "\n",
    "\n",
    "**STDEV. S** FOR A SAMPLE POPULATION - KNOWN AS STDEV.S\n",
    ">Sometimes our data is only a sample of the whole population.\n",
    ">We can still estimate the Standard Deviation.\n",
    ">But when we use the sample as an estimate of the whole population, the Standard Deviation formula changes to this:\n",
    ">The formula for Sample Standard Deviation:\n",
    ">![standard-deviation-sample.gif](standard-deviation-sample.gif)\n",
    ">The important change is \"N-1\" instead of \"N\" (which is called \"Bessel's correction\").<BR>\n",
    ">https://www.mathsisfun.com/data/standard-deviation-formulas.html\n",
    "\n"
   ]
  },
  {
   "cell_type": "markdown",
   "metadata": {},
   "source": [
    "## CALCULATING STDEV.P AND STDEV.S MANUALLY WITH PYTHON / NUMPY\n",
    "\n",
    "The formulas below show how you would do the above calculations with Python."
   ]
  },
  {
   "cell_type": "code",
   "execution_count": 5,
   "metadata": {},
   "outputs": [
    {
     "name": "stdout",
     "output_type": "stream",
     "text": [
      "STDEV.P: 70.71067811865476\n",
      "STDEV.S: 70.70360669725413\n"
     ]
    }
   ],
   "source": [
    "import numpy as np\n",
    "\n",
    "# To calculate the standard deviation of an entire population e.g. STDEV.P\n",
    "x = [100,200,300,150,250]\n",
    "STDEVP = np.sqrt(np.sum((x - np.mean(x))**2)/len(x))\n",
    "print(\"STDEV.P:\",STDEVP)\n",
    "\n",
    "# To calculate the standard deviation of a sample population e.g. STDEV.P\n",
    "x = [100,200,300,150,250]\n",
    "STDEVS = np.sqrt(np.sum((x - np.mean(x))**2)/len(x)-1)\n",
    "\n",
    "print(\"STDEV.S:\",STDEVS)"
   ]
  },
  {
   "cell_type": "markdown",
   "metadata": {},
   "source": [
    "## CALCULATING STDEV.P AND STDEV.S EASILY WITH THE NUMPY MODULE OF PYTHON\n",
    "\n",
    "However the above involve remembering some math and, the NumPy module of Python provides a shorthand way of doing the same calculation and getting the same result. \n",
    "\n",
    "https://numpy.org/doc/stable/reference/generated/numpy.std.html\n",
    "\n",
    "We will be comparing the difference between NumPy and Excel."
   ]
  },
  {
   "cell_type": "code",
   "execution_count": 6,
   "metadata": {},
   "outputs": [
    {
     "name": "stdout",
     "output_type": "stream",
     "text": [
      "70.71067811865476\n",
      "Note when comparing the results above how NumPy np.std is basically the same as STDEV.P, this can be confusing because Excel STDEV is the same as STDEV.S\n"
     ]
    }
   ],
   "source": [
    "import numpy as np\n",
    "x = [100,200,300,150,250]\n",
    "\n",
    "npstd = np.std(x, dtype=np.float64)\n",
    "\n",
    "print(npstd)\n",
    "print('Note when comparing the results above how NumPy np.std is basically the same as STDEV.P, this can be confusing because Excel STDEV is the same as STDEV.S')"
   ]
  },
  {
   "cell_type": "markdown",
   "metadata": {},
   "source": [
    "The STDEV. S function calculates the standard deviation in a sample set of data. Standard deviation is a measure of how much variance there is in a set of numbers compared to the average (mean) of the numbers. The STDEV. S function is meant to estimate standard deviation in a sample.\n",
    "\n",
    "#https://stackoverflow.com/questions/34133939/is-there-any-difference-between-numpy-std-and-excel-stdev-function\n",
    "\n",
    "There's a difference: Excel's STDEV calculates the sample standard deviation, while NumPy's std calculates the population standard deviation by default (it is behaving like Excel's STDEVP).\n",
    "\n",
    "## To make NumPy's std function behave like Excel's STDEV, pass in the value ddof=1:"
   ]
  },
  {
   "cell_type": "code",
   "execution_count": 7,
   "metadata": {},
   "outputs": [
    {
     "name": "stdout",
     "output_type": "stream",
     "text": [
      "79.05694150420949\n",
      "0.0\n",
      "424.85291572496004\n"
     ]
    }
   ],
   "source": [
    "import numpy as np\n",
    "group_x = [100,200,300,150,250]\n",
    "group_y = [200,200,200,200,200]\n",
    "group_z = [10,10,10,10,960]\n",
    "\n",
    "a = np.std(group_x, ddof=1)\n",
    "b = np.std(group_y, ddof=1)\n",
    "c = np.std(group_z, ddof=1)\n",
    "\n",
    "\n",
    "print(a)\n",
    "print(b)\n",
    "print(c)\n",
    "\n",
    "#The Excel STDEV function returns the standard deviation for data that represents a sample. To calculate the standard deviation for an entire population, use STDEVP or STDEV. P.\n",
    "#https://exceljet.net/excel-functions/excel-stdev-function"
   ]
  },
  {
   "cell_type": "markdown",
   "metadata": {},
   "source": [
    "## Research these Excel functions, writing a note in a Markdown cell about the difference between them. "
   ]
  },
  {
   "cell_type": "markdown",
   "metadata": {},
   "source": [
    "SAMPLE\n",
    "=STDEV.S(600,470,170,430,300)\n",
    "\n",
    "\n",
    "POPULATION\n",
    "np.std()\n",
    "147.32277488562318\n",
    "\n"
   ]
  },
  {
   "cell_type": "markdown",
   "metadata": {},
   "source": [
    "### STANDARD DEVIATION PERFORMED ON A POPULATION"
   ]
  },
  {
   "cell_type": "markdown",
   "metadata": {},
   "source": [
    "## STDEV.P USED IN EXCEL\n",
    "![STDEVP.png](STDEVP.png)\n",
    "=STDEV.P(600,470,170,430,300)<br>\n",
    "=STDEV.P(A3,B3,C3,D3,E3)<br>\n",
    "\n",
    "RESULT<br>\n",
    "147.3227749"
   ]
  },
  {
   "cell_type": "markdown",
   "metadata": {},
   "source": [
    "## How To Do Standard Deviation In NumPy (equivalent to excel STDEV.P)"
   ]
  },
  {
   "cell_type": "code",
   "execution_count": 8,
   "metadata": {},
   "outputs": [
    {
     "data": {
      "text/plain": [
       "70.71067811865476"
      ]
     },
     "execution_count": 8,
     "metadata": {},
     "output_type": "execute_result"
    }
   ],
   "source": [
    "import numpy as np\n",
    "\n",
    "a = np.array([100,200,300,150,250])\n",
    "np.std(a)"
   ]
  },
  {
   "cell_type": "markdown",
   "metadata": {},
   "source": [
    "### STANDARD DEVIATION PERFORMED ON A SAMPLE"
   ]
  },
  {
   "cell_type": "markdown",
   "metadata": {},
   "source": [
    "## STDEV.S USED IN EXCEL\n",
    "![STDEVS.png](STDEVS.png)\n",
    "=STDEV.S(600,470,170,430,300)<br>\n",
    "=STDEV.S(A3,B3,C3,D3,E3)\n",
    "\n",
    "RESULT<br>\n",
    "164.7118696"
   ]
  },
  {
   "cell_type": "markdown",
   "metadata": {},
   "source": [
    "## STDEV USED IN EXCEL\n",
    "![STDEV.png](STDEV.png)\n",
    "=STDEV(600,470,170,430,300)<br>\n",
    "=STDEV(A3,B3,C3,D3,E3)\n",
    "\n",
    "RESULT<br>\n",
    "164.7118696"
   ]
  },
  {
   "cell_type": "markdown",
   "metadata": {},
   "source": [
    "## How To Do Standard Deviation In NumPy (equivalent to excel STDEV.S)"
   ]
  },
  {
   "cell_type": "code",
   "execution_count": 9,
   "metadata": {},
   "outputs": [
    {
     "data": {
      "text/plain": [
       "164.7118696390761"
      ]
     },
     "execution_count": 9,
     "metadata": {},
     "output_type": "execute_result"
    }
   ],
   "source": [
    "import numpy as np\n",
    "s = [600,470,170,430,300]\n",
    "\n",
    "np.std(s, ddof=1)\n"
   ]
  },
  {
   "cell_type": "markdown",
   "metadata": {},
   "source": [
    "#https://numpy.org/doc/stable/reference/generated/numpy.std.html\n",
    "Computing the standard deviation in float64 is more accurate:\n",
    "\n",
    ">>>\n",
    "np.std(a, dtype=np.float64)\n",
    "0.44999999925494177 # may vary"
   ]
  },
  {
   "cell_type": "code",
   "execution_count": 10,
   "metadata": {},
   "outputs": [
    {
     "data": {
      "text/plain": [
       "164.7118696390761"
      ]
     },
     "execution_count": 10,
     "metadata": {},
     "output_type": "execute_result"
    }
   ],
   "source": [
    "import numpy as np\n",
    "s = [600,470,170,430,300]\n",
    "\n",
    "np.std(s, ddof=1, dtype=np.float64)"
   ]
  },
  {
   "cell_type": "markdown",
   "metadata": {},
   "source": [
    "# Task 4\n",
    "## Use scikit-learn to apply k-means clustering to Fisher’s famous Iris data set.\n",
    "\n",
    "4. November 30th, 2020: Use scikit-learn to apply k-means clustering to Fisher’s famous Iris data set. You will easily obtain a copy of the data set online. Explain in a Markdown cell how your code works and how accurate it might be, and then explain how your model could be used to make predictions of species of iris."
   ]
  },
  {
   "cell_type": "markdown",
   "metadata": {},
   "source": [
    "## KMEANS HAS AN OVERALL ACCURACY OF 89.34% ANALYSING THE IRIS DATASET\n",
    "\n",
    "To understand how to apply k-means clustering to Fisher’s famous Iris data set I watched the video https://www.youtube.com/watch?v=asW8tp1qiFQ, while watching the video I typed the code and added the narration comments and my own print statements to explain the code.\n",
    "\n",
    "I found this video particularly helpful for showing how accurate kmeans is, because it ends with a piece of code from pandas that shows a crosstab kmeans classification.\n",
    "\n",
    "In the Iris dataset, there are 150 Iris flowers, 50 of each of the three species, a 100% correct classification should show 50 under each tab (e.g. 0,1,2)\n",
    "\n",
    "![kmeanstable.png](kmeanstable.png)\n",
    "\n",
    "kmeans was able to show 50 under tab 2, one may assume that species 2 was easy to classify for kmeans, and that it did it with 100% accuracy, this would require further investigation.\n",
    "\n",
    "kmeans shows 2 missclasifications for 1, and 14 misclassifcations for 0\n",
    "\n",
    "that is 16 misclassifications out of 150 = 10.66% of the data, which mean **kmeans has an overall accuracy of 89.34% analysing the Iris dataset**\n",
    "\n",
    "> import pandas as pd<br>\n",
    "  pd.crosstab(iris.target,KModel.labels_)<br>\n",
    "  \n",
    "To get a feel for how to use kmeans to predict accuracy I also tried to use kmeans.predict on a few individual samples\n",
    "\n",
    "> import numpy as np<br>\n",
    "> newvals = np.array([[5.1, 3.5, 1.4, 0.2],[4.9, 3.,  1.4, 0.2],[4.7, 3.2, 1.3, 0.2],[4.6, 3.1, 1.5, 0.2]])<br>\n",
    "> predictions = kmeans.predict(newvals)<br>\n",
    "> print(predictions)<br>\n",
    "\n",
    "However the cross tab table above gives the best insight into kmeans prediction accuracy."
   ]
  },
  {
   "cell_type": "code",
   "execution_count": 34,
   "metadata": {},
   "outputs": [
    {
     "name": "stdout",
     "output_type": "stream",
     "text": [
      "[[5.1 3.5 1.4 0.2]\n",
      " [4.9 3.  1.4 0.2]\n",
      " [4.7 3.2 1.3 0.2]\n",
      " [4.6 3.1 1.5 0.2]\n",
      " [5.  3.6 1.4 0.2]\n",
      " [5.4 3.9 1.7 0.4]\n",
      " [4.6 3.4 1.4 0.3]\n",
      " [5.  3.4 1.5 0.2]\n",
      " [4.4 2.9 1.4 0.2]\n",
      " [4.9 3.1 1.5 0.1]\n",
      " [5.4 3.7 1.5 0.2]\n",
      " [4.8 3.4 1.6 0.2]\n",
      " [4.8 3.  1.4 0.1]\n",
      " [4.3 3.  1.1 0.1]\n",
      " [5.8 4.  1.2 0.2]\n",
      " [5.7 4.4 1.5 0.4]\n",
      " [5.4 3.9 1.3 0.4]\n",
      " [5.1 3.5 1.4 0.3]\n",
      " [5.7 3.8 1.7 0.3]\n",
      " [5.1 3.8 1.5 0.3]\n",
      " [5.4 3.4 1.7 0.2]\n",
      " [5.1 3.7 1.5 0.4]\n",
      " [4.6 3.6 1.  0.2]\n",
      " [5.1 3.3 1.7 0.5]\n",
      " [4.8 3.4 1.9 0.2]\n",
      " [5.  3.  1.6 0.2]\n",
      " [5.  3.4 1.6 0.4]\n",
      " [5.2 3.5 1.5 0.2]\n",
      " [5.2 3.4 1.4 0.2]\n",
      " [4.7 3.2 1.6 0.2]\n",
      " [4.8 3.1 1.6 0.2]\n",
      " [5.4 3.4 1.5 0.4]\n",
      " [5.2 4.1 1.5 0.1]\n",
      " [5.5 4.2 1.4 0.2]\n",
      " [4.9 3.1 1.5 0.2]\n",
      " [5.  3.2 1.2 0.2]\n",
      " [5.5 3.5 1.3 0.2]\n",
      " [4.9 3.6 1.4 0.1]\n",
      " [4.4 3.  1.3 0.2]\n",
      " [5.1 3.4 1.5 0.2]\n",
      " [5.  3.5 1.3 0.3]\n",
      " [4.5 2.3 1.3 0.3]\n",
      " [4.4 3.2 1.3 0.2]\n",
      " [5.  3.5 1.6 0.6]\n",
      " [5.1 3.8 1.9 0.4]\n",
      " [4.8 3.  1.4 0.3]\n",
      " [5.1 3.8 1.6 0.2]\n",
      " [4.6 3.2 1.4 0.2]\n",
      " [5.3 3.7 1.5 0.2]\n",
      " [5.  3.3 1.4 0.2]\n",
      " [7.  3.2 4.7 1.4]\n",
      " [6.4 3.2 4.5 1.5]\n",
      " [6.9 3.1 4.9 1.5]\n",
      " [5.5 2.3 4.  1.3]\n",
      " [6.5 2.8 4.6 1.5]\n",
      " [5.7 2.8 4.5 1.3]\n",
      " [6.3 3.3 4.7 1.6]\n",
      " [4.9 2.4 3.3 1. ]\n",
      " [6.6 2.9 4.6 1.3]\n",
      " [5.2 2.7 3.9 1.4]\n",
      " [5.  2.  3.5 1. ]\n",
      " [5.9 3.  4.2 1.5]\n",
      " [6.  2.2 4.  1. ]\n",
      " [6.1 2.9 4.7 1.4]\n",
      " [5.6 2.9 3.6 1.3]\n",
      " [6.7 3.1 4.4 1.4]\n",
      " [5.6 3.  4.5 1.5]\n",
      " [5.8 2.7 4.1 1. ]\n",
      " [6.2 2.2 4.5 1.5]\n",
      " [5.6 2.5 3.9 1.1]\n",
      " [5.9 3.2 4.8 1.8]\n",
      " [6.1 2.8 4.  1.3]\n",
      " [6.3 2.5 4.9 1.5]\n",
      " [6.1 2.8 4.7 1.2]\n",
      " [6.4 2.9 4.3 1.3]\n",
      " [6.6 3.  4.4 1.4]\n",
      " [6.8 2.8 4.8 1.4]\n",
      " [6.7 3.  5.  1.7]\n",
      " [6.  2.9 4.5 1.5]\n",
      " [5.7 2.6 3.5 1. ]\n",
      " [5.5 2.4 3.8 1.1]\n",
      " [5.5 2.4 3.7 1. ]\n",
      " [5.8 2.7 3.9 1.2]\n",
      " [6.  2.7 5.1 1.6]\n",
      " [5.4 3.  4.5 1.5]\n",
      " [6.  3.4 4.5 1.6]\n",
      " [6.7 3.1 4.7 1.5]\n",
      " [6.3 2.3 4.4 1.3]\n",
      " [5.6 3.  4.1 1.3]\n",
      " [5.5 2.5 4.  1.3]\n",
      " [5.5 2.6 4.4 1.2]\n",
      " [6.1 3.  4.6 1.4]\n",
      " [5.8 2.6 4.  1.2]\n",
      " [5.  2.3 3.3 1. ]\n",
      " [5.6 2.7 4.2 1.3]\n",
      " [5.7 3.  4.2 1.2]\n",
      " [5.7 2.9 4.2 1.3]\n",
      " [6.2 2.9 4.3 1.3]\n",
      " [5.1 2.5 3.  1.1]\n",
      " [5.7 2.8 4.1 1.3]\n",
      " [6.3 3.3 6.  2.5]\n",
      " [5.8 2.7 5.1 1.9]\n",
      " [7.1 3.  5.9 2.1]\n",
      " [6.3 2.9 5.6 1.8]\n",
      " [6.5 3.  5.8 2.2]\n",
      " [7.6 3.  6.6 2.1]\n",
      " [4.9 2.5 4.5 1.7]\n",
      " [7.3 2.9 6.3 1.8]\n",
      " [6.7 2.5 5.8 1.8]\n",
      " [7.2 3.6 6.1 2.5]\n",
      " [6.5 3.2 5.1 2. ]\n",
      " [6.4 2.7 5.3 1.9]\n",
      " [6.8 3.  5.5 2.1]\n",
      " [5.7 2.5 5.  2. ]\n",
      " [5.8 2.8 5.1 2.4]\n",
      " [6.4 3.2 5.3 2.3]\n",
      " [6.5 3.  5.5 1.8]\n",
      " [7.7 3.8 6.7 2.2]\n",
      " [7.7 2.6 6.9 2.3]\n",
      " [6.  2.2 5.  1.5]\n",
      " [6.9 3.2 5.7 2.3]\n",
      " [5.6 2.8 4.9 2. ]\n",
      " [7.7 2.8 6.7 2. ]\n",
      " [6.3 2.7 4.9 1.8]\n",
      " [6.7 3.3 5.7 2.1]\n",
      " [7.2 3.2 6.  1.8]\n",
      " [6.2 2.8 4.8 1.8]\n",
      " [6.1 3.  4.9 1.8]\n",
      " [6.4 2.8 5.6 2.1]\n",
      " [7.2 3.  5.8 1.6]\n",
      " [7.4 2.8 6.1 1.9]\n",
      " [7.9 3.8 6.4 2. ]\n",
      " [6.4 2.8 5.6 2.2]\n",
      " [6.3 2.8 5.1 1.5]\n",
      " [6.1 2.6 5.6 1.4]\n",
      " [7.7 3.  6.1 2.3]\n",
      " [6.3 3.4 5.6 2.4]\n",
      " [6.4 3.1 5.5 1.8]\n",
      " [6.  3.  4.8 1.8]\n",
      " [6.9 3.1 5.4 2.1]\n",
      " [6.7 3.1 5.6 2.4]\n",
      " [6.9 3.1 5.1 2.3]\n",
      " [5.8 2.7 5.1 1.9]\n",
      " [6.8 3.2 5.9 2.3]\n",
      " [6.7 3.3 5.7 2.5]\n",
      " [6.7 3.  5.2 2.3]\n",
      " [6.3 2.5 5.  1.9]\n",
      " [6.5 3.  5.2 2. ]\n",
      " [6.2 3.4 5.4 2.3]\n",
      " [5.9 3.  5.1 1.8]]\n"
     ]
    }
   ],
   "source": [
    "#I watched the video https://www.youtube.com/watch?v=asW8tp1qiFQ, typed the code and added the narration comments and\n",
    "#my own print statements to explain the code\n",
    "\n",
    "from sklearn.datasets import load_iris #load inbuilt dataset from sklearn\n",
    "iris = load_iris() #assign variable name iris to inbuilt dataset\n",
    "\n",
    "iris.data # contains the four numeric variables, sepal length, sepal width, petal length, petal width\n",
    "\n",
    "print(iris.data) #printing the measurements of the Iris Dataset below"
   ]
  },
  {
   "cell_type": "code",
   "execution_count": 12,
   "metadata": {},
   "outputs": [
    {
     "name": "stdout",
     "output_type": "stream",
     "text": [
      "[0 0 0 0 0 0 0 0 0 0 0 0 0 0 0 0 0 0 0 0 0 0 0 0 0 0 0 0 0 0 0 0 0 0 0 0 0\n",
      " 0 0 0 0 0 0 0 0 0 0 0 0 0 1 1 1 1 1 1 1 1 1 1 1 1 1 1 1 1 1 1 1 1 1 1 1 1\n",
      " 1 1 1 1 1 1 1 1 1 1 1 1 1 1 1 1 1 1 1 1 1 1 1 1 1 1 2 2 2 2 2 2 2 2 2 2 2\n",
      " 2 2 2 2 2 2 2 2 2 2 2 2 2 2 2 2 2 2 2 2 2 2 2 2 2 2 2 2 2 2 2 2 2 2 2 2 2\n",
      " 2 2]\n",
      "\n",
      "The array above shows the three types of Iris flower. \n",
      "There are 150 Iris in the dataset, 50 of each Iris type.\n",
      "all the zeros represent one Iris type,\n",
      "all the ones represent another Iris type,\n",
      "all the twos represent another Iris type\n"
     ]
    }
   ],
   "source": [
    "iris.target # relates to the different species shown as 0,1,2 for the three different   \n",
    "            # species of Iris, a categorical variable, basically a label\n",
    "\n",
    "\n",
    "print(iris.target)\n",
    "\n",
    "print(\"\"\"\\nThe array above shows the three types of Iris flower. \n",
    "There are 150 Iris in the dataset, 50 of each Iris type.\n",
    "all the zeros represent one Iris type,\n",
    "all the ones represent another Iris type,\n",
    "all the twos represent another Iris type\"\"\")"
   ]
  },
  {
   "cell_type": "code",
   "execution_count": 13,
   "metadata": {},
   "outputs": [],
   "source": [
    "\n",
    "from sklearn.cluster import KMeans\n",
    "kmeans = KMeans(n_clusters=3) #with KMeans you get to pre specify the number of Clusters\n"
   ]
  },
  {
   "cell_type": "code",
   "execution_count": 14,
   "metadata": {},
   "outputs": [
    {
     "data": {
      "text/plain": [
       "KMeans(algorithm='auto', copy_x=True, init='k-means++', max_iter=300,\n",
       "       n_clusters=3, n_init=10, n_jobs=None, precompute_distances='auto',\n",
       "       random_state=None, tol=0.0001, verbose=0)"
      ]
     },
     "execution_count": 14,
     "metadata": {},
     "output_type": "execute_result"
    }
   ],
   "source": [
    "kmeans"
   ]
  },
  {
   "cell_type": "code",
   "execution_count": 15,
   "metadata": {},
   "outputs": [],
   "source": [
    "KModel = kmeans.fit(iris.data) #fit a model using the training data , in this case original Iris Data passed through"
   ]
  },
  {
   "cell_type": "code",
   "execution_count": 16,
   "metadata": {
    "scrolled": true
   },
   "outputs": [
    {
     "data": {
      "text/plain": [
       "KMeans(algorithm='auto', copy_x=True, init='k-means++', max_iter=300,\n",
       "       n_clusters=3, n_init=10, n_jobs=None, precompute_distances='auto',\n",
       "       random_state=None, tol=0.0001, verbose=0)"
      ]
     },
     "execution_count": 16,
     "metadata": {},
     "output_type": "execute_result"
    }
   ],
   "source": [
    "KModel"
   ]
  },
  {
   "cell_type": "code",
   "execution_count": 17,
   "metadata": {},
   "outputs": [
    {
     "data": {
      "text/plain": [
       "array([2, 2, 2, 2, 2, 2, 2, 2, 2, 2, 2, 2, 2, 2, 2, 2, 2, 2, 2, 2, 2, 2,\n",
       "       2, 2, 2, 2, 2, 2, 2, 2, 2, 2, 2, 2, 2, 2, 2, 2, 2, 2, 2, 2, 2, 2,\n",
       "       2, 2, 2, 2, 2, 2, 1, 1, 0, 1, 1, 1, 1, 1, 1, 1, 1, 1, 1, 1, 1, 1,\n",
       "       1, 1, 1, 1, 1, 1, 1, 1, 1, 1, 1, 0, 1, 1, 1, 1, 1, 1, 1, 1, 1, 1,\n",
       "       1, 1, 1, 1, 1, 1, 1, 1, 1, 1, 1, 1, 0, 1, 0, 0, 0, 0, 1, 0, 0, 0,\n",
       "       0, 0, 0, 1, 1, 0, 0, 0, 0, 1, 0, 1, 0, 1, 0, 0, 1, 1, 0, 0, 0, 0,\n",
       "       0, 1, 0, 0, 0, 0, 1, 0, 0, 0, 1, 0, 0, 0, 1, 0, 0, 1], dtype=int32)"
      ]
     },
     "execution_count": 17,
     "metadata": {},
     "output_type": "execute_result"
    }
   ],
   "source": [
    "KModel.labels_"
   ]
  },
  {
   "cell_type": "markdown",
   "metadata": {},
   "source": [
    "When you train the Iris Dataset"
   ]
  },
  {
   "cell_type": "code",
   "execution_count": 19,
   "metadata": {},
   "outputs": [
    {
     "data": {
      "text/html": [
       "<div>\n",
       "<style scoped>\n",
       "    .dataframe tbody tr th:only-of-type {\n",
       "        vertical-align: middle;\n",
       "    }\n",
       "\n",
       "    .dataframe tbody tr th {\n",
       "        vertical-align: top;\n",
       "    }\n",
       "\n",
       "    .dataframe thead th {\n",
       "        text-align: right;\n",
       "    }\n",
       "</style>\n",
       "<table border=\"1\" class=\"dataframe\">\n",
       "  <thead>\n",
       "    <tr style=\"text-align: right;\">\n",
       "      <th>col_0</th>\n",
       "      <th>0</th>\n",
       "      <th>1</th>\n",
       "      <th>2</th>\n",
       "    </tr>\n",
       "    <tr>\n",
       "      <th>row_0</th>\n",
       "      <th></th>\n",
       "      <th></th>\n",
       "      <th></th>\n",
       "    </tr>\n",
       "  </thead>\n",
       "  <tbody>\n",
       "    <tr>\n",
       "      <td>0</td>\n",
       "      <td>0</td>\n",
       "      <td>0</td>\n",
       "      <td>50</td>\n",
       "    </tr>\n",
       "    <tr>\n",
       "      <td>1</td>\n",
       "      <td>2</td>\n",
       "      <td>48</td>\n",
       "      <td>0</td>\n",
       "    </tr>\n",
       "    <tr>\n",
       "      <td>2</td>\n",
       "      <td>36</td>\n",
       "      <td>14</td>\n",
       "      <td>0</td>\n",
       "    </tr>\n",
       "  </tbody>\n",
       "</table>\n",
       "</div>"
      ],
      "text/plain": [
       "col_0   0   1   2\n",
       "row_0            \n",
       "0       0   0  50\n",
       "1       2  48   0\n",
       "2      36  14   0"
      ]
     },
     "execution_count": 19,
     "metadata": {},
     "output_type": "execute_result"
    }
   ],
   "source": [
    "import pandas as pd\n",
    "pd.crosstab(iris.target,KModel.labels_)"
   ]
  },
  {
   "cell_type": "code",
   "execution_count": 40,
   "metadata": {},
   "outputs": [
    {
     "name": "stdout",
     "output_type": "stream",
     "text": [
      "[0 1 1 1]\n"
     ]
    }
   ],
   "source": [
    "import numpy as np\n",
    "\n",
    "newvals = np.array([[5.1, 3.5, 1.4, 0.2],[4.9, 3.,  1.4, 0.2],[4.7, 3.2, 1.3, 0.2],[4.6, 3.1, 1.5, 0.2]])\n",
    "predictions = kmeans.predict(newvals)\n",
    "print(predictions)"
   ]
  },
  {
   "cell_type": "markdown",
   "metadata": {},
   "source": [
    "------------------------------------------------------------"
   ]
  },
  {
   "cell_type": "code",
   "execution_count": 41,
   "metadata": {},
   "outputs": [
    {
     "name": "stdout",
     "output_type": "stream",
     "text": [
      "[0 0 0 0 0 0 0 0]\n"
     ]
    }
   ],
   "source": [
    "import numpy as np\n",
    "\n",
    "newvals = np.array([[5.8, 2.7, 5.1, 1.9],[6.8, 3.2, 5.9, 2.3],[6.7, 3.3, 5.7, 2.5],[6.7, 3.,  5.2, 2.3],[6.3, 2.5, 5.,  1.9],[6.5, 3.,  5.2, 2. ],[6.2, 3.4, 5.4, 2.3],[5.9, 3.,  5.1, 1.8]])\n",
    "predictions = kmeans.predict(newvals)\n",
    "print(predictions)"
   ]
  },
  {
   "cell_type": "markdown",
   "metadata": {},
   "source": [
    "Other Resources to watch for scikit-learn to apply k-means clustering to Fisher’s famous Iris data set\n",
    "\n",
    "https://www.youtube.com/watch?v=asW8tp1qiFQ<br>\n",
    "https://www.youtube.com/watch?v=nlD8A-49Fc0<br>\n",
    "https://www.youtube.com/watch?v=hd1W4CyPX58<br>\n",
    "https://www.youtube.com/watch?v=I38fOLHC8zo<br>\n",
    "https://www.youtube.com/watch?v=iMJZAWdQx7g<br>\n",
    "https://www.youtube.com/watch?v=K1quNyRP86Q<br>\n",
    "https://www.youtube.com/watch?v=VjPmHQyONYI<br>\n",
    "https://github.com/palak2323/The-Spark-Foundation-internship-/blob/main/IRIS(KMEANS_CLUSTERING).ipynb<br>\n",
    "https://gist.github.com/bbarrilleaux/9841297<br>\n",
    "https://www.kaggle.com/tonzowonzo/simple-k-means-clustering-on-the-iris-dataset<br>\n",
    "https://scikit-learn.org/stable/modules/generated/sklearn.cluster.KMeans.html#sklearn.cluster.KMeans<br>"
   ]
  },
  {
   "cell_type": "code",
   "execution_count": null,
   "metadata": {},
   "outputs": [],
   "source": []
  }
 ],
 "metadata": {
  "kernelspec": {
   "display_name": "Python 3",
   "language": "python",
   "name": "python3"
  },
  "language_info": {
   "codemirror_mode": {
    "name": "ipython",
    "version": 3
   },
   "file_extension": ".py",
   "mimetype": "text/x-python",
   "name": "python",
   "nbconvert_exporter": "python",
   "pygments_lexer": "ipython3",
   "version": "3.7.4"
  }
 },
 "nbformat": 4,
 "nbformat_minor": 4
}
