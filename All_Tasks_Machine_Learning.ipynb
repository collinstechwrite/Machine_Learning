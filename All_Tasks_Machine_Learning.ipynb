{
 "cells": [
  {
   "cell_type": "markdown",
   "metadata": {},
   "source": [
    "# TASK 1\n",
    "\n",
    "October 5th, 2020: Write a Python function called sqrt2 that calculates and\n",
    "prints to the screen the square root of 2 to 100 decimal places. Your code should\n",
    "not depend on any module from the standard library1 or otherwise. You should\n",
    "research the task first and include references and a description of your algorithm.\n",
    "\n",
    "\n"
   ]
  },
  {
   "cell_type": "code",
   "execution_count": 1,
   "metadata": {},
   "outputs": [
    {
     "name": "stdout",
     "output_type": "stream",
     "text": [
      "1.4142135623730950488016887242096980785696718753769480731766797379907324784621070388503875343276415727\n"
     ]
    }
   ],
   "source": [
    "def sqrt2(my_number): \n",
    "    # I researched how to do a nested function to encapsulate sqrt2 as the overarching function, outer / inner function \n",
    "    # see https://stackabuse.com/python-nested-functions/\n",
    "    # my_number is 2, when the function sqrt2 is called sqrt2(2), see last line of code below\n",
    "\n",
    "\n",
    "    x = my_number * 100000000000000000000000000000000000000000000000000000000000000000000000000000000000000000000000000000000000000000000000000000000000000000000000000000000000000000000000000000000000000000000000000000000\n",
    "    # Because Python does not do 100 decimal places, we multiply 2 to a really large integer, where the square root of this number will be an integer length of 101 characters\n",
    "    # e.g. 14142135623730950488016887242096980785696718753769480731766797379907324784621070388503875343276415727\n",
    "    # is square root of 200000000000000000000000000000000000000000000000000000000000000000000000000000000000000000000000000000000000000000000000000000000000000000000000000000000000000000000000000000000000000000000000000000000\n",
    "    # The above could also be coded this way x = my_number * 10 ** 200\n",
    " \n",
    "    r = x\n",
    "\n",
    "    def test_diffs(x, r): \n",
    "\n",
    "        # test_diffs is the inner function of sqrt2, the code which I used for this inner function was given to me by expert on stackoverflow\n",
    "        # https://stackoverflow.com/questions/64278117/is-there-a-way-to-create-more-decimal-points-on-python-without-importing-a-libra/64278569?noredirect=1#comment113668731_64278569\n",
    "        # on my question on stackoverflow I describe the research I have done, and how far I got with a possible solution\n",
    "        \n",
    "        \n",
    "        d0 = abs(x - r**2)\n",
    "        dm = abs(x - (r-1)**2)\n",
    "        dp = abs(x - (r+1)**2)\n",
    "        minimised = d0 <= dm and d0 <= dp\n",
    "        below_min = dp < dm\n",
    "        return minimised, below_min\n",
    "\n",
    "    while True:\n",
    "        oldr = r # this is a variable used for keeping track of original numaber\n",
    "        r = (r + x // r) // 2\n",
    "\n",
    "        minimised, below_min = test_diffs(x, r)\n",
    "        if minimised:\n",
    "            break\n",
    "\n",
    "        if r == oldr:\n",
    "            if below_min:\n",
    "                r += 1 # increment r by 1\n",
    "            else:\n",
    "                r -= 1 # decrease r by 1\n",
    "            minimised, _ = test_diffs(x, r)\n",
    "\n",
    "            if minimised:\n",
    "                break\n",
    "\n",
    "    # We could present answer using print formatting from original stackoverflow answer\n",
    "    # https://stackoverflow.com/questions/64278117/is-there-a-way-to-create-more-decimal-points-on-python-without-importing-a-libra/64278569?noredirect=1#comment113668731_64278569\n",
    "    # print(f'{r // 10**100}.{r % 10**100:0100d}')\"\"\"\n",
    "\n",
    "    # Or we can code to convert the final number into a string, and separate the string into two parts and add a fullstop in the middle https://stackoverflow.com/questions/1228299/changing-one-character-in-a-string\n",
    "    r = str(r)\n",
    "    text = r[:1] + \".\" + r[1:]\n",
    "    print(text)\n",
    "\n",
    "\n",
    "sqrt2(2) # call the function sqrt"
   ]
  },
  {
   "cell_type": "markdown",
   "metadata": {},
   "source": [
    "# Task 2\n",
    "\n",
    "November 2nd, 2020: The Chi-squared test for independence is a statistical\n",
    "hypothesis test like a t-test. It is used to analyse whether two categorical variables\n",
    "are independent. The Wikipedia article gives the table below as an example [4],\n",
    "stating the Chi-squared value based on it is approximately 24.6. Use scipy.stats\n",
    "to verify this value and calculate the associated p value. You should include a short\n",
    "note with references justifying your analysis in a markdown cell.\n",
    "https://en.wikipedia.org/wiki/Chi-squared_test\n",
    "\n",
    "![table.png](table.png)"
   ]
  },
  {
   "cell_type": "markdown",
   "metadata": {},
   "source": [
    "### Videos Watched\n",
    "\n",
    "https://youtu.be/fMIwIKLGke0\n",
    "associated Jupyter Notebook https://nbviewer.jupyter.org/github/bhattbhavesh91/chi-squared-feature-selection-selectkbest/blob/master/chi-squared-selectkbest-notebook.ipynb\n",
    "\n",
    "This referenced use of \n",
    "\n",
    "import pandas as pd\n",
    "import numpy as np\n",
    "from scipy import stats\n",
    "from sklearn.feature_selection import SelectKBest, chi2\n",
    "\n",
    "\n",
    "https://youtu.be/WXPBoFDqNVk <br>\n",
    "https://youtu.be/Pbo7VbHK9cY <br>\n",
    "https://youtu.be/I10q6fjPxJ0 <br>\n",
    "\n",
    "At layman entry point into statistics, for me it was at first a daunting task to find for dummies statistical training guides on chi-squared test, and to apply that to the scipy.stats functions available.\n",
    "\n",
    "### Written Sources of investigation\n",
    "\n",
    "As the task assignment specifically referenced scipy.stats I checked Stackoverflow\n",
    "\n",
    "https://stackoverflow.com/questions/44817281/performing-chi-squared-test-in-python\n",
    "\n",
    "from scipy.stats import chisquare  \n",
    "chisquare([ <your data points>])\n",
    "\n",
    "I also checked the user manual.\n",
    "    \n",
    "https://docs.scipy.org/doc/scipy/reference/generated/scipy.stats.chisquare.html\n",
    "\n",
    "I raised a question on Stackoverflow hoping that with expert advice, I could both broaden my understanding of the chi square test, and to use the best available scipy.stats function to reference the table data.\n",
    "    \n",
    "My question can be found here:\n",
    "https://stackoverflow.com/questions/64669448/understanding-scipy-stats-chisquare\n",
    "    \n",
    "### My Question On Stackoverflow\n",
    "    \n",
    "Can someone help me with scipy.stats.chisquare? I do not have a statistical / mathematical background, and I am learning scipy.stats.chisquare with this data set from https://en.wikipedia.org/wiki/Chi-squared_test\n",
    "\n",
    "The Wikipedia article gives the table below as an example, stating the Chi-squared value based on it is approximately 24.6. I am to use scipy.stats to verify this value and calculate the associated p value.\n",
    "\n",
    "![table.png](table.png)\n",
    "    \n",
    "I have found what looks like the most likely formula solutions to help me here\n",
    "\n",
    "https://docs.scipy.org/doc/scipy/reference/generated/scipy.stats.chisquare.html\n",
    "\n",
    "![chi_squared_solutions.png](chi_squared_solutions.png)  \n",
    "\n",
    "As I am new to statistics, and also the use of scipy.stats.chisquare I am just not sure of the best approach, and how best to enter the data from provided table into the arrays, and whether to supply expected values? from Wikipedia.\n",
    "    \n"
   ]
  },
  {
   "cell_type": "markdown",
   "metadata": {},
   "source": [
    "### Final Solution from Stackoverflow\n",
    "\n",
    "![table.png](table.png)\n",
    "\n",
    "\n",
    ">> That data is a contingency table. SciPy has the function scipy.stats.chi2_contingency that applies the chi-square test to a contingency table. It is fundamentally just a reqular chi-square test, but when applied to a contingency table, the expected frequencies are calculated under the assumption of independence (chi2_contingency does this for you), and the degrees of freedom depends on the number of rows and columns (chi2_contingency calculates this for you, too).\n",
    ">> Here's how you can apply the chi-square test to that table:\n",
    ">> https://stackoverflow.com/questions/64669448/understanding-scipy-stats-chisquare/\n",
    "\n",
    "From using the above answer, I didn't need to research further the expected frequencies for each category, because the chi2_contingency does this for you.\n",
    "The chi2_contingency function also calulates the degrees of freedom.\n",
    "\n",
    "As requested for this task, this chi2_contingency function was able to verify the value of 24.6 (24.571) and calculate the associated p value as 0.00040984"
   ]
  },
  {
   "cell_type": "code",
   "execution_count": 4,
   "metadata": {},
   "outputs": [
    {
     "name": "stdout",
     "output_type": "stream",
     "text": [
      "chi2 statistic:     24.571\n",
      "p-value:            0.00040984\n",
      "degrees of freedom: 6\n",
      "expected frequencies:\n",
      "[[ 80.53846154  80.53846154 107.38461538  80.53846154]\n",
      " [ 34.84615385  34.84615385  46.46153846  34.84615385]\n",
      " [ 34.61538462  34.61538462  46.15384615  34.61538462]]\n"
     ]
    }
   ],
   "source": [
    "import numpy as np\n",
    "from scipy.stats import chi2_contingency\n",
    "\n",
    "\n",
    "# We use a multi dimensional data array from numpy to represent the table\n",
    "\n",
    "table = np.array([[90, 60, 104, 95], # White collar\n",
    "                  [30, 50,  51, 20], # Blue collar\n",
    "                  [30, 40,  45, 35]]) # No collar\n",
    "\n",
    "# the variables chi2, p, dof, expected\n",
    "\n",
    "chi2, p, dof, expected = chi2_contingency(table) #chi2_contingency function from scipy.stats is applied to the table\n",
    "    # the variables chi2, p, dof, expected - are the same as set out in the user guide url below                                              \n",
    "    # https://docs.scipy.org/doc/scipy/reference/generated/scipy.stats.chi2_contingency.html\n",
    "\n",
    "print(f\"chi2 statistic:     {chi2:.5g}\")\n",
    "print(f\"p-value:            {p:.5g}\")\n",
    "print(f\"degrees of freedom: {dof}\")\n",
    "print(\"expected frequencies:\")\n",
    "print(expected)\n",
    "\n",
    "\"\"\"\n",
    "The .g used in the print formating stands for General format. \n",
    "General format: For a given precision p >= 1, this rounds the number to p significant digits and \n",
    "then formats the result in either fixed-point format or in scientific notation, depending on its magnitude.\"\"\"\n"
   ]
  },
  {
   "cell_type": "code",
   "execution_count": 1,
   "metadata": {},
   "outputs": [
    {
     "name": "stdout",
     "output_type": "stream",
     "text": [
      "chi2 statistic:     24.571\n",
      "p-value:            0.00040984\n",
      "degrees of freedom: 6\n",
      "expected frequencies:\n",
      "[[ 80.53846154  80.53846154 107.38461538  80.53846154]\n",
      " [ 34.84615385  34.84615385  46.46153846  34.84615385]\n",
      " [ 34.61538462  34.61538462  46.15384615  34.61538462]]\n"
     ]
    }
   ],
   "source": [
    "import numpy as np\n",
    "from scipy.stats import chi2_contingency\n",
    "\n",
    "\n",
    "table = np.array([[90, 60, 104, 95],\n",
    "                  [30, 50,  51, 20],\n",
    "                  [30, 40,  45, 35]])\n",
    "\n",
    "chi2, p, dof, expected = chi2_contingency(table)\n",
    "\n",
    "print(f\"chi2 statistic:     {chi2:.5g}\")\n",
    "print(f\"p-value:            {p:.5g}\")\n",
    "print(f\"degrees of freedom: {dof}\")\n",
    "print(\"expected frequencies:\")\n",
    "print(expected)"
   ]
  },
  {
   "cell_type": "code",
   "execution_count": 2,
   "metadata": {},
   "outputs": [
    {
     "name": "stdout",
     "output_type": "stream",
     "text": [
      "chi2 statistic:     24.571\n",
      "p-value:            0.00040984\n",
      "degrees of freedom: 6\n",
      "expected frequencies:\n",
      "[[ 80.53846154  80.53846154 107.38461538  80.53846154]\n",
      " [ 34.84615385  34.84615385  46.46153846  34.84615385]\n",
      " [ 34.61538462  34.61538462  46.15384615  34.61538462]]\n"
     ]
    }
   ],
   "source": [
    "import numpy as np\n",
    "import scipy.stats\n",
    "\n",
    "\n",
    "table = np.array([[90, 60, 104, 95],\n",
    "                  [30, 50,  51, 20],\n",
    "                  [30, 40,  45, 35]])\n",
    "\n",
    "chi2, p, dof, expected = scipy.stats.chi2_contingency(table)\n",
    "\n",
    "print(f\"chi2 statistic:     {chi2:.5g}\")\n",
    "print(f\"p-value:            {p:.5g}\")\n",
    "print(f\"degrees of freedom: {dof}\")\n",
    "print(\"expected frequencies:\")\n",
    "print(expected)"
   ]
  },
  {
   "cell_type": "markdown",
   "metadata": {},
   "source": [
    "# Task 3\n",
    "\n",
    "November 16th, 2020: The standard deviation of an array of numbers x is\n",
    "calculated using numpy as np.sqrt(np.sum((x - np.mean(x))**2)/len(x)) .\n",
    "However, Microsoft Excel has two different versions of the standard deviation\n",
    "calculation, STDEV.P and STDEV.S . The STDEV.P function performs the above\n",
    "calculation but in the STDEV.S calculation the division is by len(x)-1 rather\n",
    "than len(x) . Research these Excel functions, writing a note in a Markdown cell\n",
    "about the difference between them. Then use numpy to perform a simulation\n",
    "demonstrating that the STDEV.S calculation is a better estimate for the standard\n",
    "deviation of a population when performed on a sample. Note that part of this task\n",
    "is to figure out the terminology in the previous sentence."
   ]
  },
  {
   "cell_type": "markdown",
   "metadata": {},
   "source": [
    "SAMPLE\n",
    "=STDEV.S(600,470,170,430,300)\n",
    "\n",
    "\n",
    "POPULATION\n",
    "np.std()\n",
    "147.32277488562318\n",
    "\n"
   ]
  },
  {
   "cell_type": "markdown",
   "metadata": {},
   "source": [
    "### STANDARD DEVIATION PERFORMED ON A POPULATION"
   ]
  },
  {
   "attachments": {},
   "cell_type": "markdown",
   "metadata": {},
   "source": [
    "## STDEV.P USED IN EXCEL\n",
    "![STDEVP.png](STDEVP.png)\n",
    "=STDEV.P(600,470,170,430,300)<br>\n",
    "=STDEV.P(A3,B3,C3,D3,E3)<br>\n",
    "\n",
    "RESULT<br>\n",
    "147.3227749"
   ]
  },
  {
   "cell_type": "markdown",
   "metadata": {},
   "source": [
    "## How To Do Standard Deviation In NumPy (equivalent to excel STDEV.P)"
   ]
  },
  {
   "cell_type": "code",
   "execution_count": 8,
   "metadata": {},
   "outputs": [
    {
     "data": {
      "text/plain": [
       "147.32277488562318"
      ]
     },
     "execution_count": 8,
     "metadata": {},
     "output_type": "execute_result"
    }
   ],
   "source": [
    "import numpy as np\n",
    "a = np.array([600,470,170,430,300])\n",
    "np.std(a)"
   ]
  },
  {
   "cell_type": "markdown",
   "metadata": {},
   "source": [
    "### STANDARD DEVIATION PERFORMED ON A SAMPLE"
   ]
  },
  {
   "attachments": {},
   "cell_type": "markdown",
   "metadata": {},
   "source": [
    "## STDEV.S USED IN EXCEL\n",
    "![STDEVS.png](STDEVS.png)\n",
    "=STDEV.S(600,470,170,430,300)<br>\n",
    "=STDEV.S(A3,B3,C3,D3,E3)\n",
    "\n",
    "RESULT<br>\n",
    "164.7118696"
   ]
  },
  {
   "cell_type": "markdown",
   "metadata": {},
   "source": [
    "## STDEV USED IN EXCEL\n",
    "![STDEV.png](STDEV.png)\n",
    "=STDEV(600,470,170,430,300)<br>\n",
    "=STDEV(A3,B3,C3,D3,E3)\n",
    "\n",
    "RESULT<br>\n",
    "164.7118696"
   ]
  },
  {
   "cell_type": "markdown",
   "metadata": {},
   "source": [
    "## How To Do Standard Deviation In NumPy (equivalent to excel STDEV.S)"
   ]
  },
  {
   "cell_type": "code",
   "execution_count": 5,
   "metadata": {},
   "outputs": [
    {
     "data": {
      "text/plain": [
       "164.7118696390761"
      ]
     },
     "execution_count": 5,
     "metadata": {},
     "output_type": "execute_result"
    }
   ],
   "source": [
    "import numpy as np\n",
    "s = [600,470,170,430,300]\n",
    "\n",
    "np.std(s, ddof=1)\n"
   ]
  },
  {
   "cell_type": "markdown",
   "metadata": {},
   "source": [
    "#https://numpy.org/doc/stable/reference/generated/numpy.std.html\n",
    "Computing the standard deviation in float64 is more accurate:\n",
    "\n",
    ">>>\n",
    "np.std(a, dtype=np.float64)\n",
    "0.44999999925494177 # may vary"
   ]
  },
  {
   "cell_type": "code",
   "execution_count": 6,
   "metadata": {},
   "outputs": [
    {
     "data": {
      "text/plain": [
       "164.7118696390761"
      ]
     },
     "execution_count": 6,
     "metadata": {},
     "output_type": "execute_result"
    }
   ],
   "source": [
    "import numpy as np\n",
    "s = [600,470,170,430,300]\n",
    "\n",
    "np.std(s, ddof=1, dtype=np.float64)"
   ]
  },
  {
   "cell_type": "markdown",
   "metadata": {},
   "source": [
    "## What is Standard Deviation?\n",
    "\n",
    "Excel functions and NumPy functions for Standard Deviation have their routes in mathematical theory.\n",
    "The Standard Deviation is a measure of how spread out numbers are.\n",
    "\n",
    "## How to calculate it \n",
    "\n",
    "\n",
    "Standard Deviation\n",
    "The Standard Deviation is a measure of how spread out numbers are.\n",
    "\n",
    "Its symbol is σ (the greek letter sigma)\n",
    "\n",
    "The formula is easy: it is the square root of the Variance. So now you ask, \"What is the Variance?\"\n",
    "\n",
    "Variance\n",
    "The Variance is defined as:\n",
    "\n",
    "The average of the squared differences from the Mean.\n",
    "\n",
    "To calculate the variance follow these steps:\n",
    "\n",
    "Work out the Mean (the simple average of the numbers)\n",
    "Then for each number: subtract the Mean and square the result (the squared difference).\n",
    "Then work out the average of those squared differences. (Why Square?)\n",
    "Example\n",
    "You and your friends have just measured the heights of your dogs (in millimeters):\n",
    "dogs on graph shoulder heights\n",
    "\n",
    "The heights (at the shoulders) are: 600mm, 470mm, 170mm, 430mm and 300mm.\n",
    "\n",
    "Find out the Mean, the Variance, and the Standard Deviation.\n",
    "\n",
    "Your first step is to find the Mean:\n",
    "\n",
    "Answer:\n",
    "Mean\t=\t 600 + 470 + 170 + 430 + 3005 \n",
    " \t=\t 19705 \n",
    " \t=\t394\n",
    "so the mean (average) height is 394 mm. Let's plot this on the chart:\n",
    "\n",
    "dogs on graph: mean\n",
    "\n",
    "Now we calculate each dog's difference from the Mean:\n",
    "\n",
    "dogs on graph: deviation\n",
    "\n",
    "To calculate the Variance, take each difference, square it, and then average the result:\n",
    "\n",
    "Variance\n",
    "σ2\t=\t 2062 + 762 + (−224)2 + 362 + (−94)25 \n",
    " \t=\t 42436 + 5776 + 50176 + 1296 + 88365 \n",
    " \t=\t 1085205 \n",
    " \t=\t21704\n",
    "So the Variance is 21,704\n",
    "\n",
    "And the Standard Deviation is just the square root of Variance, so:\n",
    "\n",
    "Standard Deviation\n",
    "σ\t=\t√21704\n",
    " \t=\t147.32...\n",
    " \t=\t147 (to the nearest mm)\n",
    " \n",
    "\n",
    "And the good thing about the Standard Deviation is that it is useful. Now we can show which heights are within one Standard Deviation (147mm) of the Mean:\n",
    "dogs on graph: standard deviation\n",
    "\n",
    "So, using the Standard Deviation we have a \"standard\" way of knowing what is normal, and what is extra large or extra small.\n",
    "\n",
    "Rottweilers are tall dogs. And Dachshunds are a bit short, right?\n",
    "\n",
    "Using\n",
    "normal distrubution 1 sd = 68%\n",
    "We can expect about 68% of values to be within plus-or-minus 1 standard deviation.\n",
    "\n",
    "Read Standard Normal Distribution to learn more.\n",
    "\n",
    "Also try the Standard Deviation Calculator.\n",
    "\n",
    "But ... there is a small change with Sample Data\n",
    "Our example has been for a Population (the 5 dogs are the only dogs we are interested in).\n",
    "\n",
    "But if the data is a Sample (a selection taken from a bigger Population), then the calculation changes!\n",
    "\n",
    "When you have \"N\" data values that are:\n",
    "\n",
    "The Population: divide by N when calculating Variance (like we did)\n",
    "A Sample: divide by N-1 when calculating Variance\n",
    "All other calculations stay the same, including how we calculated the mean.\n",
    "\n",
    "Example: if our 5 dogs are just a sample of a bigger population of dogs, we divide by 4 instead of 5 like this:\n",
    "\n",
    "Sample Variance = 108,520 / 4 = 27,130\n",
    "Sample Standard Deviation = √27,130 = 165 (to the nearest mm)\n",
    "Think of it as a \"correction\" when your data is only a sample.\n",
    "\n",
    "\n",
    "\n",
    "\n",
    "\n",
    "\n",
    "\n",
    "\n",
    "When you have \"N\" data values that are:\n",
    "\n",
    "The Population: divide by N when calculating Variance (like we did)\n",
    "A Sample: divide by N-1 when calculating Variance\n",
    "\n",
    "\n",
    "## Entire Population Data Or Sample Data?\n",
    "\n",
    "The clue to how to use STDEV. P or STDEV is in the suffix. \n",
    "\n",
    "\n",
    "**STDEV. P** If your data represents the entire population, then compute the standard deviation using STDEV. P\n",
    "\n",
    "**STDEV. S** assumes that its arguments are a sample of the population.\n",
    "\n",
    "\n",
    "\n",
    "\n",
    "\n",
    "\n",
    "The STDEV. S function calculates the standard deviation in a sample set of data. Standard deviation is a measure of how much variance there is in a set of numbers compared to the average (mean) of the numbers. The STDEV. S function is meant to estimate standard deviation in a sample.\n",
    "\n",
    "#https://stackoverflow.com/questions/34133939/is-there-any-difference-between-numpy-std-and-excel-stdev-function\n",
    "\n",
    "There's a difference: Excel's STDEV calculates the sample standard deviation, while NumPy's std calculates the population standard deviation by default (it is behaving like Excel's STDEVP).\n",
    "\n",
    "To make NumPy's std function behave like Excel's STDEV, pass in the value ddof=1:\n"
   ]
  },
  {
   "cell_type": "code",
   "execution_count": null,
   "metadata": {},
   "outputs": [],
   "source": [
    "import numpy as np\n",
    "s = [20,90,60]\n",
    "\n",
    "a = np.std(s, ddof=1)\n",
    "\n",
    "print(a)\n",
    "\n",
    "\n",
    "\n",
    "The Excel STDEV function returns the standard deviation for data that represents a sample. To calculate the standard deviation for an entire population, use STDEVP or STDEV. P.\n",
    "https://exceljet.net/excel-functions/excel-stdev-function"
   ]
  }
 ],
 "metadata": {
  "kernelspec": {
   "display_name": "Python 3",
   "language": "python",
   "name": "python3"
  },
  "language_info": {
   "codemirror_mode": {
    "name": "ipython",
    "version": 3
   },
   "file_extension": ".py",
   "mimetype": "text/x-python",
   "name": "python",
   "nbconvert_exporter": "python",
   "pygments_lexer": "ipython3",
   "version": "3.8.3"
  }
 },
 "nbformat": 4,
 "nbformat_minor": 4
}
