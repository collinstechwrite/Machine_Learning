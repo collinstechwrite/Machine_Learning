{
 "cells": [
  {
   "cell_type": "markdown",
   "metadata": {},
   "source": [
    "# TASK 1 - SQRT2\n",
    "\n",
    "October 5th, 2020: Write a Python function called sqrt2 that calculates and prints to the screen the square root of 2 to 100 decimal places. Your code should not depend on any module from the standard library1 or otherwise. You should research the task first and include references and a description of your algorithm."
   ]
  },
  {
   "cell_type": "code",
   "execution_count": 1,
   "metadata": {},
   "outputs": [
    {
     "name": "stdout",
     "output_type": "stream",
     "text": [
      "1.4142135623730950488016887242096980785696718753769480731766797379907324784621070388503875343276415727\n"
     ]
    }
   ],
   "source": [
    "def sqrt2(my_number): \n",
    "    # I researched how to do a nested function to encapsulate sqrt2 as the overarching function, outer / inner function \n",
    "    # see https://stackabuse.com/python-nested-functions/\n",
    "    # my_number is 2, when the function sqrt2 is called sqrt2(2), see last line of code below\n",
    "\n",
    "\n",
    "    x = my_number * 100000000000000000000000000000000000000000000000000000000000000000000000000000000000000000000000000000000000000000000000000000000000000000000000000000000000000000000000000000000000000000000000000000000\n",
    "    # Because Python does not do 100 decimal places, we multiply 2 to a really large integer, where the square root of this number will be an integer length of 101 characters\n",
    "    # e.g. 14142135623730950488016887242096980785696718753769480731766797379907324784621070388503875343276415727\n",
    "    # is square root of 200000000000000000000000000000000000000000000000000000000000000000000000000000000000000000000000000000000000000000000000000000000000000000000000000000000000000000000000000000000000000000000000000000000\n",
    "    # The above could also be coded this way x = my_number * 10 ** 200\n",
    " \n",
    "    r = x\n",
    "\n",
    "    def test_diffs(x, r): \n",
    "\n",
    "        # test_diffs is the inner function of sqrt2, the code which I used for this inner function was given to me by expert on stackoverflow\n",
    "        # https://stackoverflow.com/questions/64278117/is-there-a-way-to-create-more-decimal-points-on-python-without-importing-a-libra/64278569?noredirect=1#comment113668731_64278569\n",
    "        # on my question on stackoverflow I describe the research I have done, and how far I got with a possible solution\n",
    "        \n",
    "        \n",
    "        d0 = abs(x - r**2)\n",
    "        dm = abs(x - (r-1)**2)\n",
    "        dp = abs(x - (r+1)**2)\n",
    "        minimised = d0 <= dm and d0 <= dp\n",
    "        below_min = dp < dm\n",
    "        return minimised, below_min\n",
    "\n",
    "    while True:\n",
    "        oldr = r # this is a variable used for keeping track of original numaber\n",
    "        r = (r + x // r) // 2\n",
    "\n",
    "        minimised, below_min = test_diffs(x, r)\n",
    "        if minimised:\n",
    "            break\n",
    "\n",
    "        if r == oldr:\n",
    "            if below_min:\n",
    "                r += 1 # increment r by 1\n",
    "            else:\n",
    "                r -= 1 # decrease r by 1\n",
    "            minimised, _ = test_diffs(x, r)\n",
    "\n",
    "            if minimised:\n",
    "                break\n",
    "\n",
    "    # We could present answer using print formatting from original stackoverflow answer\n",
    "    # https://stackoverflow.com/questions/64278117/is-there-a-way-to-create-more-decimal-points-on-python-without-importing-a-libra/64278569?noredirect=1#comment113668731_64278569\n",
    "    # print(f'{r // 10**100}.{r % 10**100:0100d}')\"\"\"\n",
    "\n",
    "    # Or we can code to convert the final number into a string, and separate the string into two parts and add a fullstop in the middle https://stackoverflow.com/questions/1228299/changing-one-character-in-a-string\n",
    "    r = str(r)\n",
    "    text = r[:1] + \".\" + r[1:]\n",
    "    print(text)\n",
    "\n",
    "\n",
    "sqrt2(2) # call the function sqrt"
   ]
  },
  {
   "cell_type": "markdown",
   "metadata": {},
   "source": [
    "# Task 2 - CHI-SQUARED\n",
    "\n",
    "November 2nd, 2020: The Chi-squared test for independence is a statistical hypothesis test like a t-test. It is used to analyse whether two categorical variables are independent. The Wikipedia article gives the table below as an example [4], stating the Chi-squared value based on it is approximately 24.6. Use scipy.stats to verify this value and calculate the associated p value. You should include a short note with references justifying your analysis in a markdown cell. https://en.wikipedia.org/wiki/Chi-squared_test\n",
    "\n",
    "![table.png](table.png)"
   ]
  },
  {
   "cell_type": "markdown",
   "metadata": {},
   "source": [
    "### Videos Watched\n",
    "\n",
    "https://youtu.be/fMIwIKLGke0\n",
    "associated Jupyter Notebook https://nbviewer.jupyter.org/github/bhattbhavesh91/chi-squared-feature-selection-selectkbest/blob/master/chi-squared-selectkbest-notebook.ipynb\n",
    "\n",
    "This referenced use of \n",
    "\n",
    "import pandas as pd\n",
    "import numpy as np\n",
    "from scipy import stats\n",
    "from sklearn.feature_selection import SelectKBest, chi2\n",
    "\n",
    "\n",
    "https://youtu.be/WXPBoFDqNVk <br>\n",
    "https://youtu.be/Pbo7VbHK9cY <br>\n",
    "https://youtu.be/I10q6fjPxJ0 <br>\n",
    "\n",
    "At layman entry point into statistics, for me it was at first a daunting task to find for dummies statistical training guides on chi-squared test, and to apply that to the scipy.stats functions available.\n",
    "\n",
    "### Written Sources of investigation\n",
    "\n",
    "As the task assignment specifically referenced scipy.stats I checked Stackoverflow\n",
    "\n",
    "https://stackoverflow.com/questions/44817281/performing-chi-squared-test-in-python\n",
    "\n",
    "from scipy.stats import chisquare  \n",
    "chisquare([ <your data points>])\n",
    "\n",
    "I also checked the user manual.\n",
    "    \n",
    "https://docs.scipy.org/doc/scipy/reference/generated/scipy.stats.chisquare.html\n",
    "\n",
    "I raised a question on Stackoverflow hoping that with expert advice, I could both broaden my understanding of the chi square test, and to use the best available scipy.stats function to reference the table data.\n",
    "    \n",
    "My question can be found here:\n",
    "https://stackoverflow.com/questions/64669448/understanding-scipy-stats-chisquare\n",
    "    \n",
    "### My Question On Stackoverflow\n",
    "    \n",
    "Can someone help me with scipy.stats.chisquare? I do not have a statistical / mathematical background, and I am learning scipy.stats.chisquare with this data set from https://en.wikipedia.org/wiki/Chi-squared_test\n",
    "\n",
    "The Wikipedia article gives the table below as an example, stating the Chi-squared value based on it is approximately 24.6. I am to use scipy.stats to verify this value and calculate the associated p value.\n",
    "\n",
    "![table.png](table.png)\n",
    "    \n",
    "I have found what looks like the most likely formula solutions to help me here\n",
    "\n",
    "https://docs.scipy.org/doc/scipy/reference/generated/scipy.stats.chisquare.html\n",
    "\n",
    "![chi_squared_solutions.png](chi_squared_solutions.png)  \n",
    "\n",
    "As I am new to statistics, and also the use of scipy.stats.chisquare I am just not sure of the best approach, and how best to enter the data from provided table into the arrays, and whether to supply expected values? from Wikipedia.\n",
    "    \n"
   ]
  },
  {
   "cell_type": "markdown",
   "metadata": {},
   "source": [
    "### Final Solution from Stackoverflow\n",
    "\n",
    "![table.png](table.png)\n",
    "\n",
    "\n",
    ">> That data is a contingency table. SciPy has the function scipy.stats.chi2_contingency that applies the chi-square test to a contingency table. It is fundamentally just a reqular chi-square test, but when applied to a contingency table, the expected frequencies are calculated under the assumption of independence (chi2_contingency does this for you), and the degrees of freedom depends on the number of rows and columns (chi2_contingency calculates this for you, too).\n",
    ">> Here's how you can apply the chi-square test to that table:\n",
    ">> https://stackoverflow.com/questions/64669448/understanding-scipy-stats-chisquare/\n",
    "\n",
    "From using the above answer, I didn't need to research further the expected frequencies for each category, because the chi2_contingency does this for you.\n",
    "The chi2_contingency function also calulates the degrees of freedom.\n",
    "\n",
    "As requested for this task, this chi2_contingency function was able to verify the value of 24.6 (24.571) and calculate the associated p value as 0.00040984"
   ]
  },
  {
   "cell_type": "code",
   "execution_count": 2,
   "metadata": {},
   "outputs": [
    {
     "name": "stdout",
     "output_type": "stream",
     "text": [
      "chi2 statistic:     24.571\n",
      "p-value:            0.00040984\n",
      "degrees of freedom: 6\n",
      "expected frequencies:\n",
      "[[ 80.53846154  80.53846154 107.38461538  80.53846154]\n",
      " [ 34.84615385  34.84615385  46.46153846  34.84615385]\n",
      " [ 34.61538462  34.61538462  46.15384615  34.61538462]]\n"
     ]
    },
    {
     "data": {
      "text/plain": [
       "'\\nThe .g used in the print formating stands for General format. \\nGeneral format: For a given precision p >= 1, this rounds the number to p significant digits and \\nthen formats the result in either fixed-point format or in scientific notation, depending on its magnitude.'"
      ]
     },
     "execution_count": 2,
     "metadata": {},
     "output_type": "execute_result"
    }
   ],
   "source": [
    "import numpy as np\n",
    "from scipy.stats import chi2_contingency\n",
    "\n",
    "\n",
    "# We use a multi dimensional data array from numpy to represent the table\n",
    "\n",
    "table = np.array([[90, 60, 104, 95], # White collar\n",
    "                  [30, 50,  51, 20], # Blue collar\n",
    "                  [30, 40,  45, 35]]) # No collar\n",
    "\n",
    "# the variables chi2, p, dof, expected\n",
    "\n",
    "chi2, p, dof, expected = chi2_contingency(table) #chi2_contingency function from scipy.stats is applied to the table\n",
    "    # the variables chi2, p, dof, expected - are the same as set out in the user guide url below                                              \n",
    "    # https://docs.scipy.org/doc/scipy/reference/generated/scipy.stats.chi2_contingency.html\n",
    "\n",
    "print(f\"chi2 statistic:     {chi2:.5g}\")\n",
    "print(f\"p-value:            {p:.5g}\")\n",
    "print(f\"degrees of freedom: {dof}\")\n",
    "print(\"expected frequencies:\")\n",
    "print(expected)\n",
    "\n",
    "\"\"\"\n",
    "The .g used in the print formating stands for General format. \n",
    "General format: For a given precision p >= 1, this rounds the number to p significant digits and \n",
    "then formats the result in either fixed-point format or in scientific notation, depending on its magnitude.\"\"\"\n"
   ]
  },
  {
   "cell_type": "code",
   "execution_count": 3,
   "metadata": {},
   "outputs": [
    {
     "name": "stdout",
     "output_type": "stream",
     "text": [
      "chi2 statistic:     24.571\n",
      "p-value:            0.00040984\n",
      "degrees of freedom: 6\n",
      "expected frequencies:\n",
      "[[ 80.53846154  80.53846154 107.38461538  80.53846154]\n",
      " [ 34.84615385  34.84615385  46.46153846  34.84615385]\n",
      " [ 34.61538462  34.61538462  46.15384615  34.61538462]]\n"
     ]
    }
   ],
   "source": [
    "import numpy as np\n",
    "from scipy.stats import chi2_contingency\n",
    "\n",
    "\n",
    "table = np.array([[90, 60, 104, 95],\n",
    "                  [30, 50,  51, 20],\n",
    "                  [30, 40,  45, 35]])\n",
    "\n",
    "chi2, p, dof, expected = chi2_contingency(table)\n",
    "\n",
    "print(f\"chi2 statistic:     {chi2:.5g}\")\n",
    "print(f\"p-value:            {p:.5g}\")\n",
    "print(f\"degrees of freedom: {dof}\")\n",
    "print(\"expected frequencies:\")\n",
    "print(expected)"
   ]
  },
  {
   "cell_type": "code",
   "execution_count": 4,
   "metadata": {},
   "outputs": [
    {
     "name": "stdout",
     "output_type": "stream",
     "text": [
      "chi2 statistic:     24.571\n",
      "p-value:            0.00040984\n",
      "degrees of freedom: 6\n",
      "expected frequencies:\n",
      "[[ 80.53846154  80.53846154 107.38461538  80.53846154]\n",
      " [ 34.84615385  34.84615385  46.46153846  34.84615385]\n",
      " [ 34.61538462  34.61538462  46.15384615  34.61538462]]\n"
     ]
    }
   ],
   "source": [
    "import numpy as np\n",
    "import scipy.stats\n",
    "\n",
    "\n",
    "table = np.array([[90, 60, 104, 95],\n",
    "                  [30, 50,  51, 20],\n",
    "                  [30, 40,  45, 35]])\n",
    "\n",
    "chi2, p, dof, expected = scipy.stats.chi2_contingency(table)\n",
    "\n",
    "print(f\"chi2 statistic:     {chi2:.5g}\")\n",
    "print(f\"p-value:            {p:.5g}\")\n",
    "print(f\"degrees of freedom: {dof}\")\n",
    "print(\"expected frequencies:\")\n",
    "print(expected)"
   ]
  },
  {
   "cell_type": "markdown",
   "metadata": {},
   "source": [
    "# Task 3 - CALCULATING STANDARD DEVIATION\n",
    "\n",
    "November 16th, 2020: The standard deviation of an array of numbers x is calculated using numpy as np.sqrt(np.sum((x - np.mean(x))**2)/len(x)). However, Microsoft Excel has two different versions of the standard deviation calculation, STDEV.P and STDEV.S . \n",
    "\n",
    "The STDEV.P function performs the above calculation but in the STDEV.S calculation the division is by len(x)-1 rather\n",
    "than len(x) . \n",
    "\n",
    "Research these Excel functions, writing a note in a Markdown cell about the difference between them. \n",
    "\n",
    "Then use numpy to perform a simulation demonstrating that the STDEV.S calculation is a better estimate for the standard deviation of a population when performed on a sample. Note that part of this task is to figure out the terminology in the previous sentence."
   ]
  },
  {
   "cell_type": "markdown",
   "metadata": {},
   "source": [
    "# Why NumPy is better than Excel\n",
    "\n",
    "![OriginalComparison.png](OriginalComparison.png)\n",
    "\n",
    "### use numpy to perform a simulation demonstrating that the STDEV.S calculation is a better estimate for the standard deviation of a population when performed on a sample. \n",
    "\n",
    "After much research, I felt that the easiest way to show the reader the difference between how Standard Deviation is done with NumPy compared to how it is done with Excel, was to show a side by side comparison of the formulas and the results.\n",
    "\n",
    "When you compare NumPy np.std(GROUP_X, ddof=1) to Excel =STDEV.S(C10:G10), NumPy gives accuracy to more decimal places.<br>\n",
    "On the group of numbers in GROUP_X NumPy np.std(GROUP_X, ddof=1) gives the answer: 79.05694150420949<br>\n",
    "On the group of numbers in GROUP_X Excel =STDEV.S(B10:F10) gives the answer:       79.0569415<br>\n",
    "\n",
    "If you are look at the screenshot below, if you were to try and set Excel to show 14 decimal places, Excel would round up the 79.05694150420949 to 79.05694150420950, therefore proving NumPy is more precise.\n",
    "\n",
    "![ExcelRoundsUp.png](ExcelRoundsUp.png)\n",
    "\n",
    "**This concludes my observations for answering Task 3. My research notes for Task 3 can be found below.**"
   ]
  },
  {
   "cell_type": "markdown",
   "metadata": {},
   "source": [
    "## WHAT IS THE PURPOSE OF STANDARD DEVIATION IN RESEARCH?\n",
    "\n",
    ">Standard Deviation (often abbreviated as \"Std Dev\" or \"SD\") provides an indication of how far the individual responses to a question vary or \"deviate\" from the mean. SD tells the researcher how spread out the responses are -- are they concentrated around the mean, or scattered far & wide?\n",
    "https://www.greenbook.org/marketing-research/how-to-interpret-standard-deviation-and-standard-error-in-survey-research-03377\n",
    "\n",
    "\n",
    "## WHAT ARE THE USES OF STANDARD DEVIATION?\n",
    "\n",
    "> Standard deviation is a number used to tell how measurements for a group are spread out from the average (mean or expected value). A low standard deviation means that most of the numbers are close to the average, while a high standard deviation means that the numbers are more spread out.\n",
    "\n",
    "\n",
    "https://simple.wikipedia.org/wiki/Standard_deviation\n",
    "\n",
    "**Sometimes averages tell us very little about a group of numbers e.g. the average annual salary, some people are on minimum weekly wage, others are on fat cat salaries. The average annual salary often looks reasonable, however many live in extreme poverty while others are obscenely rich.**\n",
    "\n",
    "**Look at the three group of numbers below, they all total 1000, they all average 200**\n",
    "![Averages.png](Averages.png)\n",
    "\n",
    "**The standard deviation formulas found in excel and in python modules such as NumPy help bring more meaning to analysing the numbers.**\n",
    "![ExcelDeviations.png](ExcelDeviations.png)\n"
   ]
  },
  {
   "cell_type": "markdown",
   "metadata": {},
   "source": [
    "### CALCULATING STANDARD DEVIATION FOR ENTIRE POPULATION DATA OR SAMPLE DATA?\n",
    "\n",
    "To calculate the standard deviation of a group of numbers, the clue to how to use STDEV.P or STDEV.S is in the suffix. \n",
    "\n",
    "\n",
    "**STDEV. P** FOR AN ENTIRE POPULATION\n",
    "> Work out the Mean (the simple average of the numbers)<br>\n",
    "Then for each number: subtract the Mean and square the result.<br>\n",
    "Then work out the mean of those squared differences.<br>\n",
    "Take the square root of that and we are done!<br>\n",
    ">https://www.mathsisfun.com/data/standard-deviation-formulas.html\n",
    "\n",
    "\n",
    "**STDEV. S** FOR A SAMPLE POPULATION - KNOWN AS STDEV.S\n",
    ">Sometimes our data is only a sample of the whole population.\n",
    ">We can still estimate the Standard Deviation.\n",
    ">But when we use the sample as an estimate of the whole population, the Standard Deviation formula changes to this:\n",
    ">The formula for Sample Standard Deviation:\n",
    ">![standard-deviation-sample.gif](standard-deviation-sample.gif)\n",
    ">The important change is \"N-1\" instead of \"N\" (which is called \"Bessel's correction\").<BR>\n",
    ">https://www.mathsisfun.com/data/standard-deviation-formulas.html\n",
    "\n"
   ]
  },
  {
   "cell_type": "markdown",
   "metadata": {},
   "source": [
    "## CALCULATING STDEV.P AND STDEV.S MANUALLY WITH PYTHON / NUMPY\n",
    "\n",
    "The formulas below show how you would do the above calculations with Python."
   ]
  },
  {
   "cell_type": "code",
   "execution_count": 11,
   "metadata": {},
   "outputs": [
    {
     "name": "stdout",
     "output_type": "stream",
     "text": [
      "STDEV.P: 70.71067811865476\n",
      "STDEV.S: 70.70360669725413\n"
     ]
    }
   ],
   "source": [
    "import numpy as np\n",
    "\n",
    "# To calculate the standard deviation of an entire population e.g. STDEV.P\n",
    "x = [100,200,300,150,250]\n",
    "STDEVP = np.sqrt(np.sum((x - np.mean(x))**2)/len(x))\n",
    "print(\"STDEV.P:\",STDEVP)\n",
    "\n",
    "# To calculate the standard deviation of a sample population e.g. STDEV.P\n",
    "x = [100,200,300,150,250]\n",
    "STDEVS = np.sqrt(np.sum((x - np.mean(x))**2)/len(x)-1)\n",
    "\n",
    "print(\"STDEV.S:\",STDEVS)"
   ]
  },
  {
   "cell_type": "markdown",
   "metadata": {},
   "source": [
    "## CALCULATING STDEV.P AND STDEV.S EASILY WITH THE NUMPY MODULE OF PYTHON\n",
    "\n",
    "However the above involve remembering some math and, the NumPy module of Python provides a shorthand way of doing the same calculation and getting the same result. \n",
    "\n",
    "https://numpy.org/doc/stable/reference/generated/numpy.std.html\n",
    "\n",
    "We will be comparing the difference between NumPy and Excel."
   ]
  },
  {
   "cell_type": "code",
   "execution_count": 12,
   "metadata": {},
   "outputs": [
    {
     "name": "stdout",
     "output_type": "stream",
     "text": [
      "70.71067811865476\n",
      "Note when comparing the results above how NumPy np.std is basically the same as STDEV.P, this can be confusing because Excel STDEV is the same as STDEV.S\n"
     ]
    }
   ],
   "source": [
    "import numpy as np\n",
    "x = [100,200,300,150,250]\n",
    "\n",
    "npstd = np.std(x, dtype=np.float64)\n",
    "\n",
    "print(npstd)\n",
    "print('Note when comparing the results above how NumPy np.std is basically the same as STDEV.P, this can be confusing because Excel STDEV is the same as STDEV.S')"
   ]
  },
  {
   "cell_type": "markdown",
   "metadata": {},
   "source": [
    "The STDEV. S function calculates the standard deviation in a sample set of data. Standard deviation is a measure of how much variance there is in a set of numbers compared to the average (mean) of the numbers. The STDEV. S function is meant to estimate standard deviation in a sample.\n",
    "\n",
    "#https://stackoverflow.com/questions/34133939/is-there-any-difference-between-numpy-std-and-excel-stdev-function\n",
    "\n",
    "There's a difference: Excel's STDEV calculates the sample standard deviation, while NumPy's std calculates the population standard deviation by default (it is behaving like Excel's STDEVP).\n",
    "\n",
    "## To make NumPy's std function behave like Excel's STDEV, pass in the value ddof=1:"
   ]
  },
  {
   "cell_type": "code",
   "execution_count": 14,
   "metadata": {},
   "outputs": [
    {
     "name": "stdout",
     "output_type": "stream",
     "text": [
      "79.05694150420949\n",
      "0.0\n",
      "424.85291572496004\n"
     ]
    }
   ],
   "source": [
    "import numpy as np\n",
    "group_x = [100,200,300,150,250]\n",
    "group_y = [200,200,200,200,200]\n",
    "group_z = [10,10,10,10,960]\n",
    "\n",
    "a = np.std(group_x, ddof=1)\n",
    "b = np.std(group_y, ddof=1)\n",
    "c = np.std(group_z, ddof=1)\n",
    "\n",
    "\n",
    "print(a)\n",
    "print(b)\n",
    "print(c)\n",
    "\n",
    "#The Excel STDEV function returns the standard deviation for data that represents a sample. To calculate the standard deviation for an entire population, use STDEVP or STDEV. P.\n",
    "#https://exceljet.net/excel-functions/excel-stdev-function"
   ]
  },
  {
   "cell_type": "markdown",
   "metadata": {},
   "source": [
    "## Research these Excel functions, writing a note in a Markdown cell about the difference between them. "
   ]
  },
  {
   "cell_type": "markdown",
   "metadata": {},
   "source": [
    "SAMPLE\n",
    "=STDEV.S(600,470,170,430,300)\n",
    "\n",
    "\n",
    "POPULATION\n",
    "np.std()\n",
    "147.32277488562318\n",
    "\n"
   ]
  },
  {
   "cell_type": "markdown",
   "metadata": {},
   "source": [
    "### STANDARD DEVIATION PERFORMED ON A POPULATION"
   ]
  },
  {
   "cell_type": "markdown",
   "metadata": {},
   "source": [
    "## STDEV.P USED IN EXCEL\n",
    "![STDEVP.png](STDEVP.png)\n",
    "=STDEV.P(600,470,170,430,300)<br>\n",
    "=STDEV.P(A3,B3,C3,D3,E3)<br>\n",
    "\n",
    "RESULT<br>\n",
    "147.3227749"
   ]
  },
  {
   "cell_type": "markdown",
   "metadata": {},
   "source": [
    "## How To Do Standard Deviation In NumPy (equivalent to excel STDEV.P)"
   ]
  },
  {
   "cell_type": "code",
   "execution_count": 3,
   "metadata": {},
   "outputs": [
    {
     "data": {
      "text/plain": [
       "70.71067811865476"
      ]
     },
     "execution_count": 3,
     "metadata": {},
     "output_type": "execute_result"
    }
   ],
   "source": [
    "import numpy as np\n",
    "\n",
    "a = np.array([100,200,300,150,250])\n",
    "np.std(a)"
   ]
  },
  {
   "cell_type": "markdown",
   "metadata": {},
   "source": [
    "### STANDARD DEVIATION PERFORMED ON A SAMPLE"
   ]
  },
  {
   "cell_type": "markdown",
   "metadata": {},
   "source": [
    "## STDEV.S USED IN EXCEL\n",
    "![STDEVS.png](STDEVS.png)\n",
    "=STDEV.S(600,470,170,430,300)<br>\n",
    "=STDEV.S(A3,B3,C3,D3,E3)\n",
    "\n",
    "RESULT<br>\n",
    "164.7118696"
   ]
  },
  {
   "cell_type": "markdown",
   "metadata": {},
   "source": [
    "## STDEV USED IN EXCEL\n",
    "![STDEV.png](STDEV.png)\n",
    "=STDEV(600,470,170,430,300)<br>\n",
    "=STDEV(A3,B3,C3,D3,E3)\n",
    "\n",
    "RESULT<br>\n",
    "164.7118696"
   ]
  },
  {
   "cell_type": "markdown",
   "metadata": {},
   "source": [
    "## How To Do Standard Deviation In NumPy (equivalent to excel STDEV.S)"
   ]
  },
  {
   "cell_type": "code",
   "execution_count": 6,
   "metadata": {},
   "outputs": [
    {
     "data": {
      "text/plain": [
       "164.7118696390761"
      ]
     },
     "execution_count": 6,
     "metadata": {},
     "output_type": "execute_result"
    }
   ],
   "source": [
    "import numpy as np\n",
    "s = [600,470,170,430,300]\n",
    "\n",
    "np.std(s, ddof=1)\n"
   ]
  },
  {
   "cell_type": "markdown",
   "metadata": {},
   "source": [
    "#https://numpy.org/doc/stable/reference/generated/numpy.std.html\n",
    "Computing the standard deviation in float64 is more accurate:\n",
    "\n",
    ">>>\n",
    "np.std(a, dtype=np.float64)\n",
    "0.44999999925494177 # may vary"
   ]
  },
  {
   "cell_type": "code",
   "execution_count": 7,
   "metadata": {},
   "outputs": [
    {
     "data": {
      "text/plain": [
       "164.7118696390761"
      ]
     },
     "execution_count": 7,
     "metadata": {},
     "output_type": "execute_result"
    }
   ],
   "source": [
    "import numpy as np\n",
    "s = [600,470,170,430,300]\n",
    "\n",
    "np.std(s, ddof=1, dtype=np.float64)"
   ]
  },
  {
   "cell_type": "markdown",
   "metadata": {},
   "source": [
    "# Task 4\n",
    "## Use scikit-learn to apply k-means clustering to Fisher’s famous Iris data set.\n",
    "\n",
    "4. November 30th, 2020: Use scikit-learn to apply k-means clustering to Fisher’s famous Iris data set. You will easily obtain a copy of the data set online. Explain in a Markdown cell how your code works and how accurate it might be, and then explain how your model could be used to make predictions of species of iris.\n",
    "\n",
    "https://scikit-learn.org/stable/modules/generated/sklearn.cluster.KMeans.html#sklearn.cluster.KMeans"
   ]
  },
  {
   "cell_type": "markdown",
   "metadata": {},
   "source": [
    "Resources\n",
    "\n",
    "https://www.youtube.com/watch?v=asW8tp1qiFQ<br>\n",
    "https://www.youtube.com/watch?v=nlD8A-49Fc0<br>\n",
    "https://www.youtube.com/watch?v=hd1W4CyPX58<br>\n",
    "https://www.youtube.com/watch?v=I38fOLHC8zo<br>\n",
    "https://www.youtube.com/watch?v=iMJZAWdQx7g<br>\n",
    "https://www.youtube.com/watch?v=K1quNyRP86Q<br>\n",
    "https://www.youtube.com/watch?v=VjPmHQyONYI<br>\n",
    "https://github.com/palak2323/The-Spark-Foundation-internship-/blob/main/IRIS(KMEANS_CLUSTERING).ipynb<br>\n",
    "https://gist.github.com/bbarrilleaux/9841297<br>\n",
    "https://www.kaggle.com/tonzowonzo/simple-k-means-clustering-on-the-iris-dataset<br>\n"
   ]
  },
  {
   "cell_type": "code",
   "execution_count": 7,
   "metadata": {},
   "outputs": [
    {
     "name": "stdout",
     "output_type": "stream",
     "text": [
      "[0 0 0 0 0 0 0 0 0 0 0 0 0 0 0 0 0 0 0 0 0 0 0 0 0 0 0 0 0 0 0 0 0 0 0 0 0\n",
      " 0 0 0 0 0 0 0 0 0 0 0 0 0 1 1 1 1 1 1 1 1 1 1 1 1 1 1 1 1 1 1 1 1 1 1 1 1\n",
      " 1 1 1 1 1 1 1 1 1 1 1 1 1 1 1 1 1 1 1 1 1 1 1 1 1 1 2 2 2 2 2 2 2 2 2 2 2\n",
      " 2 2 2 2 2 2 2 2 2 2 2 2 2 2 2 2 2 2 2 2 2 2 2 2 2 2 2 2 2 2 2 2 2 2 2 2 2\n",
      " 2 2]\n",
      "\n",
      "The array above shows the three types of Iris flower. \n",
      "There are 150 Iris in the dataset, 50 of each Iris type.\n",
      "all the zeros represent one Iris type,\n",
      "all the ones represent another Iris type,\n",
      "all the twos represent another Iris type\n"
     ]
    }
   ],
   "source": [
    "#I watched the video https://www.youtube.com/watch?v=asW8tp1qiFQ, typed the code and added the narration comments and\n",
    "#my own print statements to explain the code\n",
    "\n",
    "from sklearn.datasets import load_iris #load inbuilt dataset from sklearn\n",
    "iris = load_iris() #assign variable name iris to inbuilt dataset\n",
    "\n",
    "iris.data # contains the four numeric variables, sepal length, sepal width, petal length, petal width\n",
    "iris.target # relates to the different species shown as 0,1,2 for the three different   \n",
    "            # species of Iris, a categorical variable, basically a label\n",
    "\n",
    "\n",
    "print(iris.target)\n",
    "\n",
    "print(\"\"\"\\nThe array above shows the three types of Iris flower. \n",
    "There are 150 Iris in the dataset, 50 of each Iris type.\n",
    "all the zeros represent one Iris type,\n",
    "all the ones represent another Iris type,\n",
    "all the twos represent another Iris type\"\"\")"
   ]
  },
  {
   "cell_type": "code",
   "execution_count": 11,
   "metadata": {},
   "outputs": [],
   "source": [
    "\n",
    "from sklearn.cluster import KMeans\n",
    "kmeans = KMeans(n_clusters=3) #with KMeans you get to pre specify the number of Clusters\n"
   ]
  },
  {
   "cell_type": "code",
   "execution_count": 13,
   "metadata": {},
   "outputs": [
    {
     "data": {
      "text/plain": [
       "KMeans(algorithm='auto', copy_x=True, init='k-means++', max_iter=300,\n",
       "       n_clusters=3, n_init=10, n_jobs=None, precompute_distances='auto',\n",
       "       random_state=None, tol=0.0001, verbose=0)"
      ]
     },
     "execution_count": 13,
     "metadata": {},
     "output_type": "execute_result"
    }
   ],
   "source": [
    "kmeans"
   ]
  },
  {
   "cell_type": "code",
   "execution_count": 14,
   "metadata": {},
   "outputs": [],
   "source": [
    "KModel = kmeans.fit(iris.data) #fit a model using the training data , in this case original Iris Data passed through"
   ]
  },
  {
   "cell_type": "code",
   "execution_count": 15,
   "metadata": {
    "scrolled": true
   },
   "outputs": [
    {
     "data": {
      "text/plain": [
       "KMeans(algorithm='auto', copy_x=True, init='k-means++', max_iter=300,\n",
       "       n_clusters=3, n_init=10, n_jobs=None, precompute_distances='auto',\n",
       "       random_state=None, tol=0.0001, verbose=0)"
      ]
     },
     "execution_count": 15,
     "metadata": {},
     "output_type": "execute_result"
    }
   ],
   "source": [
    "KModel"
   ]
  },
  {
   "cell_type": "code",
   "execution_count": 16,
   "metadata": {},
   "outputs": [
    {
     "data": {
      "text/plain": [
       "array([0, 0, 0, 0, 0, 0, 0, 0, 0, 0, 0, 0, 0, 0, 0, 0, 0, 0, 0, 0, 0, 0,\n",
       "       0, 0, 0, 0, 0, 0, 0, 0, 0, 0, 0, 0, 0, 0, 0, 0, 0, 0, 0, 0, 0, 0,\n",
       "       0, 0, 0, 0, 0, 0, 1, 1, 2, 1, 1, 1, 1, 1, 1, 1, 1, 1, 1, 1, 1, 1,\n",
       "       1, 1, 1, 1, 1, 1, 1, 1, 1, 1, 1, 2, 1, 1, 1, 1, 1, 1, 1, 1, 1, 1,\n",
       "       1, 1, 1, 1, 1, 1, 1, 1, 1, 1, 1, 1, 2, 1, 2, 2, 2, 2, 1, 2, 2, 2,\n",
       "       2, 2, 2, 1, 1, 2, 2, 2, 2, 1, 2, 1, 2, 1, 2, 2, 1, 1, 2, 2, 2, 2,\n",
       "       2, 1, 2, 2, 2, 2, 1, 2, 2, 2, 1, 2, 2, 2, 1, 2, 2, 1], dtype=int32)"
      ]
     },
     "execution_count": 16,
     "metadata": {},
     "output_type": "execute_result"
    }
   ],
   "source": [
    "KModel.labels_"
   ]
  },
  {
   "cell_type": "markdown",
   "metadata": {},
   "source": [
    "When you train the Iris Dataset"
   ]
  },
  {
   "cell_type": "code",
   "execution_count": 17,
   "metadata": {},
   "outputs": [
    {
     "data": {
      "text/plain": [
       "array([[5.006     , 3.428     , 1.462     , 0.246     ],\n",
       "       [5.9016129 , 2.7483871 , 4.39354839, 1.43387097],\n",
       "       [6.85      , 3.07368421, 5.74210526, 2.07105263]])"
      ]
     },
     "execution_count": 17,
     "metadata": {},
     "output_type": "execute_result"
    }
   ],
   "source": [
    "KModel.cluster_centers_"
   ]
  },
  {
   "cell_type": "code",
   "execution_count": 19,
   "metadata": {},
   "outputs": [
    {
     "data": {
      "text/html": [
       "<div>\n",
       "<style scoped>\n",
       "    .dataframe tbody tr th:only-of-type {\n",
       "        vertical-align: middle;\n",
       "    }\n",
       "\n",
       "    .dataframe tbody tr th {\n",
       "        vertical-align: top;\n",
       "    }\n",
       "\n",
       "    .dataframe thead th {\n",
       "        text-align: right;\n",
       "    }\n",
       "</style>\n",
       "<table border=\"1\" class=\"dataframe\">\n",
       "  <thead>\n",
       "    <tr style=\"text-align: right;\">\n",
       "      <th>col_0</th>\n",
       "      <th>0</th>\n",
       "      <th>1</th>\n",
       "      <th>2</th>\n",
       "    </tr>\n",
       "    <tr>\n",
       "      <th>row_0</th>\n",
       "      <th></th>\n",
       "      <th></th>\n",
       "      <th></th>\n",
       "    </tr>\n",
       "  </thead>\n",
       "  <tbody>\n",
       "    <tr>\n",
       "      <td>0</td>\n",
       "      <td>50</td>\n",
       "      <td>0</td>\n",
       "      <td>0</td>\n",
       "    </tr>\n",
       "    <tr>\n",
       "      <td>1</td>\n",
       "      <td>0</td>\n",
       "      <td>48</td>\n",
       "      <td>2</td>\n",
       "    </tr>\n",
       "    <tr>\n",
       "      <td>2</td>\n",
       "      <td>0</td>\n",
       "      <td>14</td>\n",
       "      <td>36</td>\n",
       "    </tr>\n",
       "  </tbody>\n",
       "</table>\n",
       "</div>"
      ],
      "text/plain": [
       "col_0   0   1   2\n",
       "row_0            \n",
       "0      50   0   0\n",
       "1       0  48   2\n",
       "2       0  14  36"
      ]
     },
     "execution_count": 19,
     "metadata": {},
     "output_type": "execute_result"
    }
   ],
   "source": [
    "import pandas as pd\n",
    "pd.crosstab(iris.target,KModel.labels_)"
   ]
  },
  {
   "cell_type": "markdown",
   "metadata": {},
   "source": [
    "------------------------------------------------------------"
   ]
  },
  {
   "cell_type": "code",
   "execution_count": 10,
   "metadata": {},
   "outputs": [],
   "source": [
    "# Numerical arrays\n",
    "import numpy as np\n",
    "\n",
    "# Machine Learning - KMeans\n",
    "import sklearn.cluster as skcl\n",
    "\n",
    "# Plotting\n",
    "import matplotlib.pyplot as plt\n",
    "\n"
   ]
  },
  {
   "cell_type": "code",
   "execution_count": 11,
   "metadata": {},
   "outputs": [],
   "source": [
    "# Data Set\n",
    "X = np.array([[1, 2], [1, 4], [1, 0],[10, 2], [10, 4], [10, 0]])"
   ]
  },
  {
   "cell_type": "code",
   "execution_count": 12,
   "metadata": {},
   "outputs": [
    {
     "data": {
      "text/plain": [
       "(array([ 1,  1,  1, 10, 10, 10]), array([2, 4, 0, 2, 4, 0]))"
      ]
     },
     "execution_count": 12,
     "metadata": {},
     "output_type": "execute_result"
    }
   ],
   "source": [
    "xvals = X[:,0] # COLON MEANS GET EVERYTHING, 0 MEANS GET FIRST VALUE\n",
    "yvals = X[:,1] # 1 GET THE SECOND VALUE\n",
    "xvals, yvals"
   ]
  },
  {
   "cell_type": "code",
   "execution_count": 13,
   "metadata": {},
   "outputs": [],
   "source": [
    "# Perform kmeans fitting\n",
    "kmeans = skcl.KMeans(n_clusters=2, random_state=0).fit(X)"
   ]
  },
  {
   "cell_type": "code",
   "execution_count": 14,
   "metadata": {},
   "outputs": [
    {
     "data": {
      "text/plain": [
       "array([1, 1, 1, 0, 0, 0])"
      ]
     },
     "execution_count": 14,
     "metadata": {},
     "output_type": "execute_result"
    }
   ],
   "source": [
    "# See the labels of the points\n",
    "kmeans.labels_"
   ]
  },
  {
   "cell_type": "code",
   "execution_count": 15,
   "metadata": {},
   "outputs": [
    {
     "data": {
      "text/plain": [
       "array([1, 0])"
      ]
     },
     "execution_count": 15,
     "metadata": {},
     "output_type": "execute_result"
    }
   ],
   "source": [
    "# Predict the cluster for two points\n",
    "newvals = np.array([[0, 0], [12, 3]])\n",
    "predictions = kmeans.predict(newvals)\n",
    "predictions"
   ]
  },
  {
   "cell_type": "code",
   "execution_count": 16,
   "metadata": {},
   "outputs": [],
   "source": [
    "cent = kmeans.cluster_centers_"
   ]
  },
  {
   "cell_type": "code",
   "execution_count": 18,
   "metadata": {},
   "outputs": [
    {
     "data": {
      "text/plain": [
       "(-2.0, 6.0)"
      ]
     },
     "execution_count": 18,
     "metadata": {},
     "output_type": "execute_result"
    },
    {
     "data": {
      "image/png": "[encoded data removed]",
      "text/plain": [
       "<Figure size 432x288 with 1 Axes>"
      ]
     },
     "metadata": {
      "needs_background": "light"
     },
     "output_type": "display_data"
    }
   ],
   "source": [
    "# Plot the data set\n",
    "plt.plot(X[:,0],X[:,1],'x')\n",
    "# set reasonable limits\n",
    "plt.xlim([-2,12])\n",
    "plt.ylim([-2,6])"
   ]
  },
  {
   "cell_type": "code",
   "execution_count": 17,
   "metadata": {},
   "outputs": [
    {
     "data": {
      "text/plain": [
       "(-2.0, 6.0)"
      ]
     },
     "execution_count": 17,
     "metadata": {},
     "output_type": "execute_result"
    },
    {
     "data": {
      "image/png": "[encoded data removed]",
      "text/plain": [
       "<Figure size 432x288 with 1 Axes>"
      ]
     },
     "metadata": {
      "needs_background": "light"
     },
     "output_type": "display_data"
    }
   ],
   "source": [
    "# Plot the data set\n",
    "plt.plot(X[kmeans.labels_ == 0][:,0],X[kmeans.labels_ == 0][:,1],'gx')\n",
    "plt.plot(X[kmeans.labels_ == 1][:,0],X[kmeans.labels_ == 1][:,1],'rx')\n",
    "plt.plot(newvals[:,0],newvals[:,1],'bx')\n",
    "\n",
    "# set reasonable limits\n",
    "plt.xlim([-2,14])\n",
    "plt.ylim([-2,6])"
   ]
  },
  {
   "cell_type": "code",
   "execution_count": 19,
   "metadata": {
    "scrolled": true
   },
   "outputs": [
    {
     "data": {
      "text/plain": [
       "(-2.0, 6.0)"
      ]
     },
     "execution_count": 19,
     "metadata": {},
     "output_type": "execute_result"
    },
    {
     "data": {
      "image/png": "[encoded data removed]",
      "text/plain": [
       "<Figure size 432x288 with 1 Axes>"
      ]
     },
     "metadata": {
      "needs_background": "light"
     },
     "output_type": "display_data"
    }
   ],
   "source": [
    "# Plot the data set\n",
    "plt.plot(X[kmeans.labels_ == 0][:,0],X[kmeans.labels_ == 0][:,1],'gx')\n",
    "plt.plot(X[kmeans.labels_ == 1][:,0],X[kmeans.labels_ == 1][:,1],'rx')\n",
    "plt.plot(newvals[predictions == 0][:,0], newvals[predictions == 0][:,1],'go')\n",
    "plt.plot(newvals[predictions == 1][:,0], newvals[predictions == 1][:,1],'ro')\n",
    "         \n",
    "         \n",
    "# set reasonable limits\n",
    "plt.xlim([-2,14])\n",
    "plt.ylim([-2,6])"
   ]
  },
  {
   "cell_type": "code",
   "execution_count": 21,
   "metadata": {},
   "outputs": [
    {
     "data": {
      "text/plain": [
       "(-2.0, 6.0)"
      ]
     },
     "execution_count": 21,
     "metadata": {},
     "output_type": "execute_result"
    },
    {
     "data": {
      "image/png": "[encoded data removed]",
      "text/plain": [
       "<Figure size 432x288 with 1 Axes>"
      ]
     },
     "metadata": {
      "needs_background": "light"
     },
     "output_type": "display_data"
    }
   ],
   "source": [
    "# Plot the data set\n",
    "plt.plot(X[kmeans.labels_ == 0][:,0],X[kmeans.labels_ == 0][:,1],'gx')\n",
    "plt.plot(X[kmeans.labels_ == 1][:,0],X[kmeans.labels_ == 1][:,1],'rx')\n",
    "plt.plot(newvals[predictions == 0][:,0], newvals[predictions == 0][:,1],'go')\n",
    "plt.plot(newvals[predictions == 1][:,0], newvals[predictions == 1][:,1],'ro')\n",
    "plt.plot(cent[:,0], cent[:,1],'k.')\n",
    "\n",
    "# set reasonable limits\n",
    "plt.xlim([-2,14])\n",
    "plt.ylim([-2,6])"
   ]
  },
  {
   "cell_type": "markdown",
   "metadata": {},
   "source": [
    "### My own data set"
   ]
  },
  {
   "cell_type": "code",
   "execution_count": 39,
   "metadata": {},
   "outputs": [
    {
     "data": {
      "text/plain": [
       "array([[ 4.89877376, 12.11698686],\n",
       "       [-0.79336523,  2.05347925],\n",
       "       [ 5.49845706, 11.43324616],\n",
       "       [-0.02940621,  2.35082978],\n",
       "       [-0.68636657,  3.23057307],\n",
       "       [ 1.06869357,  1.81101761],\n",
       "       [ 0.28949912,  2.8064366 ],\n",
       "       [ 5.0977072 , 11.05647199],\n",
       "       [ 3.96336088, 11.73301805],\n",
       "       [ 1.89927349,  3.069151  ],\n",
       "       [ 4.57866677, 13.16003789],\n",
       "       [ 6.00078583, 12.43086947],\n",
       "       [ 6.02265066, 11.05870261],\n",
       "       [ 4.74423707, 11.67192233],\n",
       "       [ 4.58151158, 10.74890506],\n",
       "       [ 1.82638874,  2.25090597],\n",
       "       [-0.2548101 ,  1.54341579],\n",
       "       [ 2.11827411,  0.55924957],\n",
       "       [ 5.66151776, 12.93510724],\n",
       "       [ 2.68624609,  2.02521483]])"
      ]
     },
     "execution_count": 39,
     "metadata": {},
     "output_type": "execute_result"
    }
   ],
   "source": [
    "#Two centre points\n",
    "c1 = np.array([1.0,2.0])\n",
    "c2 = np.array([5.0,12.0])\n",
    "\n",
    "# Create points randomly around the centre points\n",
    "c1x = np.random.normal(c1[0],1.0,10)\n",
    "c1y = np.random.normal(c1[1],1.0,10)\n",
    "c1p = np.vstack([c1x,c1y]).T\n",
    "\n",
    "\n",
    "\n",
    "c2x = np.random.normal(c2[0],1.0,10)\n",
    "c2y = np.random.normal(c2[1],1.0,10)\n",
    "c2p = np.vstack([c2x,c2y]).T\n",
    "\n",
    "\n",
    "\n",
    "myX = np.concatenate([c1p,c2p])\n",
    "np.random.shuffle(myX)\n",
    "myX"
   ]
  },
  {
   "cell_type": "code",
   "execution_count": 40,
   "metadata": {},
   "outputs": [
    {
     "data": {
      "text/plain": [
       "(-2.0, 16.0)"
      ]
     },
     "execution_count": 40,
     "metadata": {},
     "output_type": "execute_result"
    },
    {
     "data": {
      "image/png": "[encoded data removed]",
      "text/plain": [
       "<Figure size 432x288 with 1 Axes>"
      ]
     },
     "metadata": {
      "needs_background": "light"
     },
     "output_type": "display_data"
    }
   ],
   "source": [
    "# Plot the data set\n",
    "plt.plot(myX[:,0],myX[:,1],'x')\n",
    "# set reasonable limits\n",
    "plt.xlim([-2,16])\n",
    "plt.ylim([-2,16])"
   ]
  },
  {
   "cell_type": "code",
   "execution_count": null,
   "metadata": {},
   "outputs": [],
   "source": [
    "mykmeans = skcl.KMeans(n_clusters=2, random_state=0).fit(myX)"
   ]
  }
 ],
 "metadata": {
  "kernelspec": {
   "display_name": "Python 3",
   "language": "python",
   "name": "python3"
  },
  "language_info": {
   "codemirror_mode": {
    "name": "ipython",
    "version": 3
   },
   "file_extension": ".py",
   "mimetype": "text/x-python",
   "name": "python",
   "nbconvert_exporter": "python",
   "pygments_lexer": "ipython3",
   "version": "3.7.4"
  }
 },
 "nbformat": 4,
 "nbformat_minor": 4
}
